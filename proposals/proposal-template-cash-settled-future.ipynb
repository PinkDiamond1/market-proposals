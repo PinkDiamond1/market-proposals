{
 "metadata": {
  "language_info": {
   "codemirror_mode": {
    "name": "ipython",
    "version": 3
   },
   "file_extension": ".py",
   "mimetype": "text/x-python",
   "name": "python",
   "nbconvert_exporter": "python",
   "pygments_lexer": "ipython3",
   "version": "3.8.2-final"
  },
  "orig_nbformat": 2,
  "kernelspec": {
   "name": "python3",
   "display_name": "Python 3.8.2 64-bit",
   "metadata": {
    "interpreter": {
     "hash": "5edc29c2ed010d6458d71a83433b383a96a8cbd3efe8531bc90c4b8a5b8bcec9"
    }
   }
  }
 },
 "nbformat": 4,
 "nbformat_minor": 2,
 "cells": [
  {
   "source": [
    "# Proposal Template - cash settled future on Testnet\n",
    "\n"
   ],
   "cell_type": "markdown",
   "metadata": {}
  },
  {
   "source": [
    "## Market Description and Metadata\n",
    "\n",
    "### Rationale\n",
    "Check out my forum post [here]()\n",
    "\n",
    "### JPY/USD MONTHLY FUTURES\n",
    "\n",
    "1. Cash settled futures market that will expire at the end of April against the JPY/USD FX spot price. \n",
    "1. The market will be margined and settled in tDAI\n",
    "1. Data used for settlement will be the final rate provided at \"2021-04-01T24:00:00Z\"\n",
    "\n",
    "\n",
    "### Naming\n",
    "\n",
    "- marketName: JPY/USD \n",
    "- Instrument.Code: \n",
    "\n",
    "### Metadata\n",
    "\n",
    "- base:JPY\n",
    "- quote:DAI\n",
    "- class:fx/major\n",
    "- monthly\n",
    "- sector:fx\n"
   ],
   "cell_type": "markdown",
   "metadata": {}
  },
  {
   "source": [
    "## Settlement Asset\n",
    "\n",
    "The market will margin, settle and have fees incurred in:\n",
    "\n",
    "```\n",
    "    {\n",
    "      \"id\": \"6d9d35f657589e40ddfb448b7ad4a7463b66efb307527fedd2aa7df1bbd5ea61\",\n",
    "      \"name\": \"Dai (test)\",\n",
    "      \"symbol\": \"tDAI\",\n",
    "      \"totalSupply\": \"9376360000000000\",\n",
    "      \"decimals\": \"5\",\n",
    "      \"source\": {\n",
    "        \"erc20\": {\n",
    "          \"contractAddress\": \"0x65e92e892Fbb489ea263c8E52bb11D1c9b67C54d\"\n",
    "        }\n",
    "      }\n",
    "    },\n",
    "```\n"
   ],
   "cell_type": "markdown",
   "metadata": {}
  },
  {
   "source": [
    "## Default Trading Mode\n",
    "\n",
    "The market will run in Continuous Trading with the following parameters:\n",
    "\n",
    "1. Tick size = 0.00001 - set to this level because this is the minimum increment for the tDAI settlement asset (see asset specification above)\n",
    "\n",
    "1. Quote Name: \"tDAI\" - the market will be quoted in tDAI"
   ],
   "cell_type": "markdown",
   "metadata": {}
  },
  {
   "source": [
    "## Risk Model and Parameters\n",
    "\n",
    "The risk model for this market will be Lognormal, with the following risk parameters:\n",
    "\n",
    "\n",
    "risk free rate = 0\n",
    "mu = 0\n",
    "risk aversion lambda = 0.001\n",
    "tau = 1 hour\n",
    "volatility = 0.8 (80% annualised volatility based off historical data)\n",
    "\n",
    "The resulting risk factors on the market will be:\n",
    "\n",
    "rf_long = \n",
    "rf-short = \n",
    "\n",
    "With the maximum leverage available on the market = 1 / rf_long = \n"
   ],
   "cell_type": "markdown",
   "metadata": {}
  },
  {
   "source": [
    "## Price Monitoring\n",
    "\n",
    "\n"
   ],
   "cell_type": "markdown",
   "metadata": {}
  },
  {
   "source": [
    "## Governance parameters"
   ],
   "cell_type": "markdown",
   "metadata": {}
  },
  {
   "source": [
    "_Guide to specificing governance parameters_\n",
    "\n",
    "\n",
    "In market proposals the two key \n",
    "\n",
    "\n",
    "\n"
   ],
   "cell_type": "markdown",
   "metadata": {}
  },
  {
   "cell_type": "code",
   "execution_count": null,
   "metadata": {},
   "outputs": [],
   "source": [
    "{\n",
    "    \"partyId\": \"7c1a2e955fc056987ad2bff6af4858357820f7ab33a104936435e1c6f6d41549\",\n",
    "    \"reference\": \"fill-this-in\",\n",
    "    \"proposalTerms\": {\n",
    "        \"closingDatetime\": \"2021-04-08T17:00:00Z\",\n",
    "        \"enactmentDatetime\": \"2021-04-08T17:15:00Z\",\n",
    "        \"newMarket\": {\n",
    "                \"decimalPlaces\": \"2\",\n",
    "                    \"riskParameters\": {\n",
    "                         \"logNormal\": { \n",
    "                             \"riskAversionParameter\": 0.1,\n",
    "                              \"tau\": 0.1,\n",
    "                              \"params\": { \"mu\": 0.1, \"r\":0.1,\"sigma\":0.6 }                    \n",
    "                   }\n",
    "                   }, \n",
    "                 \"continuousTrading\": { \"tickSize\": \"1\" },\n",
    "                \"instrument\": {\n",
    "                    \"code\": \"UKSNOWFALLAPR\",\n",
    "                    \"futureProduct\": {\n",
    "                        \"settlementAsset\": \"XYZalpha\",\n",
    "                        \"quoteName\": \"Snowfall Index\",\n",
    "                        \"maturity\": \"2021-04-30T23:59:59Z\",\n",
    "                        \"oracleSpec\": {\n",
    "                            \"pubKeys\": [\"G6VC6AB0QIAGNRU\"],\n",
    "                            \"filters\": [{\n",
    "                                \"key\": {\n",
    "                                    \"name\": \"data.snowfall.value\",\n",
    "                                    \"type\": \"TypeString\"\n",
    "                                },\n",
    "                                \"conditions\": [{\n",
    "                                    \"operator\": \"OperatorEquals\",\n",
    "                                    \"value\": \"5797800153\"\n",
    "                                }]\n",
    "                            }]\n",
    "                        },\n",
    "                        \"oracleSpecBinding\": {\n",
    "                            \"settlementPriceProperty\": \"data.snowfall.value\"\n",
    "                        }\n",
    "                    },\n",
    "                    \"name\": \"UK Snowfall\"\n",
    "                },\n",
    "                \"metadata\": [\"assetClass:weather\"]\n",
    "        }\n",
    "    }\n",
    "}"
   ]
  }
 ]
}