{
 "metadata": {
  "language_info": {
   "codemirror_mode": {
    "name": "ipython",
    "version": 3
   },
   "file_extension": ".py",
   "mimetype": "text/x-python",
   "name": "python",
   "nbconvert_exporter": "python",
   "pygments_lexer": "ipython3",
   "version": "3.8.8-final"
  },
  "orig_nbformat": 2,
  "kernelspec": {
   "name": "python3",
   "display_name": "Python 3",
   "language": "python"
  }
 },
 "nbformat": 4,
 "nbformat_minor": 2,
 "cells": [
  {
   "source": [
    "# Proposal Template - cash settled future on Testnet\n",
    "\n"
   ],
   "cell_type": "markdown",
   "metadata": {}
  },
  {
   "source": [
    "## Market Description and Metadata\n",
    "\n",
    "### Rationale\n",
    "Check out my forum post [here]()\n",
    "\n",
    "### JPY/USD MONTHLY FUTURES\n",
    "\n",
    "1. Cash settled futures market that will expire at the end of April against the JPY/USD FX spot price. \n",
    "1. The market will be margined and settled in tDAI\n",
    "1. Data used for settlement will be the final rate provided at \"2021-04-01T24:00:00Z\"\n",
    "\n",
    "\n",
    "### Naming\n",
    "\n",
    "- marketName: JPY/USD-MonthlyFutures-30June-21\n",
    "- Instrument.Code: JPYUSD6JM1\n",
    "\n",
    "\n",
    "### Metadata\n",
    "\n",
    "- base:JPY\n",
    "- quote:DAI\n",
    "- class:fx/major\n",
    "- monthly\n",
    "- sector:fx\n",
    "- 2021\n",
    "- ProposedBy: Tamlyn\n"
   ],
   "cell_type": "markdown",
   "metadata": {}
  },
  {
   "source": [
    "## Settlement Asset\n",
    "\n",
    "The market will margin, settle and have fees incurred in:\n",
    "\n",
    "```\n",
    "    {\n",
    "      \"id\": \"6d9d35f657589e40ddfb448b7ad4a7463b66efb307527fedd2aa7df1bbd5ea61\",\n",
    "      \"name\": \"Dai (test)\",\n",
    "      \"symbol\": \"tDAI\",\n",
    "      \"totalSupply\": \"9376360000000000\",\n",
    "      \"decimals\": \"5\",\n",
    "      \"source\": {\n",
    "        \"erc20\": {\n",
    "          \"contractAddress\": \"0x65e92e892Fbb489ea263c8E52bb11D1c9b67C54d\"\n",
    "        }\n",
    "      }\n",
    "    },\n",
    "```\n"
   ],
   "cell_type": "markdown",
   "metadata": {}
  },
  {
   "source": [
    "## Default Trading Mode\n",
    "\n",
    "The market will run in Continuous Trading with the following parameters:\n",
    "\n",
    "1. Tick size = 1 - set to this level because this is the minimum increment for the tDAI settlement asset (see asset specification above)\n",
    "\n",
    "1. Quote Name: \"tDAI\" - the market will be quoted in tDAI"
   ],
   "cell_type": "markdown",
   "metadata": {}
  },
  {
   "source": [
    "## Risk Model and Parameters\n",
    "\n",
    "The risk model for this market will be Lognormal, with the following risk parameters:\n",
    "\n",
    "\n",
    "- risk free rate = 0\n",
    "- mu = 0\n",
    "- risk aversion lambda = 0.001\n",
    "- tau = 1 hour\n",
    "- volatility = 0.1 (10% annualised volatility based off historical data)\n",
    "\n",
    "The resulting risk factors on the market will be:\n",
    "\n",
    "rf_long = \n",
    "rf-short = \n",
    "\n",
    "With the maximum leverage available on the market = 1 / rf_long = \n"
   ],
   "cell_type": "markdown",
   "metadata": {}
  },
  {
   "source": [
    "## Implied Volatility Chart\n",
    "\n",
    "![IV-chart](./IV-JPY:USD.png)"
   ],
   "cell_type": "markdown",
   "metadata": {}
  },
  {
   "source": [
    "## Data Source for Settlement\n",
    "\n",
    "- What data source will give quality data at 30-6-2021 24:00 UTC?\n",
    "\n",
    "- Do you have sufficient reputation to act as the settlement data source yourself?\n",
    "- "
   ],
   "cell_type": "markdown",
   "metadata": {}
  },
  {
   "source": [
    "## Price Monitoring\n",
    "\n",
    "I've decided to not override the default price monitoring parameters. They are:\n",
    "\n",
    "- horizon = 43200 seconds (12 hours)\n",
    "- probability = 0.9999999\n",
    "- auction_extension = 300 seconds (5 minutes)\n",
    "\n",
    "This means that if a move that is very unlikely over a 12 hour lookback window occurs, then the market will be placed into an auction.\n"
   ],
   "cell_type": "markdown",
   "metadata": {}
  },
  {
   "source": [
    "## Governance parameters\n",
    "\n",
    "- closingDatetime: \"2021-04-08T17:00:00Z\",\n",
    "- enactmentDatetime: \"2021-04-08T17:15:00Z\","
   ],
   "cell_type": "markdown",
   "metadata": {}
  },
  {
   "cell_type": "code",
   "execution_count": 2,
   "metadata": {},
   "outputs": [
    {
     "output_type": "execute_result",
     "data": {
      "text/plain": [
       "{'partyId': '7c1a2e955fc056987ad2bff6af4858357820f7ab33a104936435e1c6f6d41549',\n",
       " 'reference': 'fill-this-in',\n",
       " 'proposalTerms': {'closingDatetime': '2021-04-08T18:40:00Z',\n",
       "  'enactmentDatetime': '2021-04-08T18:43:00Z',\n",
       "  'newMarket': {'decimalPlaces': 6,\n",
       "   'riskParameters': {'logNormal': {'riskAversionParameter': 1e-05,\n",
       "     'tau': 0.1,\n",
       "     'params': {'mu': 0, 'r': 0, 'sigma': 0.1}}},\n",
       "   'continuousTrading': {'tickSize': '1'},\n",
       "   'instrument': {'code': 'JPYUSD6JM1',\n",
       "    'futureProduct': {'settlementAsset': '6d9d35f657589e40ddfb448b7ad4a7463b66efb307527fedd2aa7df1bbd5ea61',\n",
       "     'quoteName': 'tDAI',\n",
       "     'maturity': '2021-06-30T23:59:59Z',\n",
       "     'oracleSpec': {'pubKeys': ['G6VC6AB0QIAGNRU'],\n",
       "      'filters': [{'key': {'name': 'data.jpyusd.value', 'type': 'TypeString'},\n",
       "        'conditions': [{'operator': 'OperatorEquals',\n",
       "          'value': 'lastPrice'}]}]},\n",
       "     'oracleSpecBinding': {'settlementPriceProperty': 'data.snowfall.value'}},\n",
       "    'name': 'JPY/USD-MonthlyFutures-30June-21'},\n",
       "   'metadata': []}}}"
      ]
     },
     "metadata": {},
     "execution_count": 2
    }
   ],
   "source": [
    "{\n",
    "    \"partyId\": \"7c1a2e955fc056987ad2bff6af4858357820f7ab33a104936435e1c6f6d41549\",\n",
    "    \"reference\": \"fill-this-in\",\n",
    "    \"proposalTerms\": {\n",
    "        \"closingDatetime\": \"2021-04-08T18:40:00Z\",\n",
    "        \"enactmentDatetime\": \"2021-04-08T18:43:00Z\",\n",
    "        \"newMarket\": {\n",
    "                \"decimalPlaces\": 6,\n",
    "                    \"riskParameters\": {\n",
    "                         \"logNormal\": { \n",
    "                             \"riskAversionParameter\": 0.00001,\n",
    "                              \"tau\": 0.1,\n",
    "                              \"params\": { \"mu\": 0, \"r\":0,\"sigma\":0.1 }                    \n",
    "                   }\n",
    "                   }, \n",
    "                 \"continuousTrading\": { \"tickSize\": \"1\" },\n",
    "                \"instrument\": {\n",
    "                    \"code\": \"JPYUSD6JM1\",\n",
    "                    \"futureProduct\": {\n",
    "                        \"settlementAsset\": \"6d9d35f657589e40ddfb448b7ad4a7463b66efb307527fedd2aa7df1bbd5ea61\",\n",
    "                        \"quoteName\": \"tDAI\",\n",
    "                        \"maturity\": \"2021-06-30T23:59:59Z\",\n",
    "                        \"oracleSpec\": {\n",
    "                            \"pubKeys\": [\"G6VC6AB0QIAGNRU\"],\n",
    "                            \"filters\": [{\n",
    "                                \"key\": {\n",
    "                                    \"name\": \"data.jpyusd.value\",\n",
    "                                    \"type\": \"TypeString\"\n",
    "                                },\n",
    "                                \"conditions\": [{\n",
    "                                    \"operator\": \"OperatorEquals\",\n",
    "                                    \"value\": \"lastPrice\"\n",
    "                                }]\n",
    "                            }]\n",
    "                        },\n",
    "                        \"oracleSpecBinding\": {\n",
    "                            \"settlementPriceProperty\": \"data.snowfall.value\"\n",
    "                        }\n",
    "                    },\n",
    "                    \"name\": \"JPY/USD-MonthlyFutures-30June-21\"\n",
    "                },\n",
    "                \"metadata\": []\n",
    "        }\n",
    "    }\n",
    "}"
   ]
  },
  {
   "cell_type": "code",
   "execution_count": null,
   "metadata": {},
   "outputs": [],
   "source": []
  },
  {
   "cell_type": "code",
   "execution_count": 3,
   "metadata": {},
   "outputs": [
    {
     "output_type": "execute_result",
     "data": {
      "text/plain": [
       "{'partyId': '75b5b97f27d13a6de2245e0cf56aa1c865f2678a6d24f1675e95486ee2a6d31e',\n",
       " 'reference': 'fill-this-in',\n",
       " 'proposalTerms': {'closingDatetime': '2021-04-09T17:00:00Z',\n",
       "  'enactmentDatetime': '2021-04-09T17:15:00Z',\n",
       "  'newMarket': {'decimalPlaces': '2',\n",
       "   'riskParameters': {'logNormal': {'riskAversionParameter': 0.1,\n",
       "     'tau': 0.1,\n",
       "     'params': {'mu': 0.1, 'r': 0.1, 'sigma': 0.1}}},\n",
       "   'continuousTrading': {'tickSize': '1'},\n",
       "   'instrument': {'code': 'XYZABC',\n",
       "    'name': 'XYZABC',\n",
       "    'futureProduct': {'settlementAsset': 'XYZalpha',\n",
       "     'quoteName': 'ABC',\n",
       "     'maturity': '2021-04-30T17:00:00Z',\n",
       "     'oracleSpec': {'pubKeys': ['G6VC6AB0QIAGNRU'],\n",
       "      'filters': [{'key': {'name': 'price.BTC.value', 'type': 'TypeString'},\n",
       "        'conditions': [{'operator': 'OperatorEquals',\n",
       "          'value': '5797800153'}]}]},\n",
       "     'oracleSpecBinding': {'settlementPriceProperty': 'price.BTC.value'}}},\n",
       "   'metadata': []}}}"
      ]
     },
     "metadata": {},
     "execution_count": 3
    }
   ],
   "source": [
    "{\n",
    "    \"partyId\": \"75b5b97f27d13a6de2245e0cf56aa1c865f2678a6d24f1675e95486ee2a6d31e\",\n",
    "    \"reference\": \"fill-this-in\",\n",
    "    \"proposalTerms\": {\n",
    "        \"closingDatetime\": \"2021-04-09T17:00:00Z\",\n",
    "        \"enactmentDatetime\": \"2021-04-09T17:15:00Z\",\n",
    "        \"newMarket\": {\n",
    "                \"decimalPlaces\": \"2\",\n",
    "                    \"riskParameters\": {\n",
    "                         \"logNormal\": { \n",
    "                             \"riskAversionParameter\": 0.1,\n",
    "                              \"tau\": 0.1,\n",
    "                              \"params\": { \"mu\": 0.1, \"r\":0.1,\"sigma\":0.1 }                    \n",
    "                   }\n",
    "                   }, \n",
    "                 \"continuousTrading\": { \"tickSize\": \"1\" },\n",
    "                \"instrument\": {\n",
    "                    \"code\": \"XYZABC\",\n",
    "                    \"name\": \"XYZABC\",\n",
    "                    \"futureProduct\": {\n",
    "                        \"settlementAsset\": \"XYZalpha\",\n",
    "                        \"quoteName\": \"ABC\",\n",
    "                        \"maturity\": \"2021-04-30T17:00:00Z\",\n",
    "                        \"oracleSpec\": {\n",
    "                            \"pubKeys\": [\"G6VC6AB0QIAGNRU\"],\n",
    "                            \"filters\": [{\n",
    "                                \"key\": {\n",
    "                                    \"name\": \"price.BTC.value\",\n",
    "                                    \"type\": \"TypeString\"\n",
    "                                },\n",
    "                                \"conditions\": [{\n",
    "                                    \"operator\": \"OperatorEquals\",\n",
    "                                    \"value\": \"5797800153\"\n",
    "                                }]\n",
    "                            }]\n",
    "                        },\n",
    "                        \"oracleSpecBinding\": {\n",
    "                            \"settlementPriceProperty\": \"price.BTC.value\"\n",
    "                        }\n",
    "                    },\n",
    "                    \"name\": \"XYZABC\"\n",
    "                },\n",
    "                \"metadata\": []\n",
    "        }\n",
    "    }\n",
    "}"
   ]
  },
  {
   "cell_type": "code",
   "execution_count": null,
   "metadata": {},
   "outputs": [],
   "source": []
  }
 ]
}