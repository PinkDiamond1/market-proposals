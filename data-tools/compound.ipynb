{
 "cells": [
  {
   "cell_type": "code",
   "execution_count": 2,
   "metadata": {},
   "outputs": [],
   "source": [
    "from requests import get\n",
    "from datetime import datetime as dt"
   ]
  },
  {
   "cell_type": "code",
   "execution_count": 4,
   "metadata": {},
   "outputs": [
    {
     "name": "stdout",
     "output_type": "stream",
     "text": [
      "https://api.compound.finance/api/v2/market_history/graph?asset=0xf5dce57282a584d2746faf1593d3121fcac444dc&min_block_timestamp=1612137600&max_block_timestamp=1614470400&num_buckets=28\n",
      "['asset', 'borrow_rates', 'error', 'exchange_rates', 'prices_usd', 'supply_rates', 'total_borrows_history', 'total_supply_history']\n",
      "('2021-02-01T23:08:34', 11759529, 0.06087893973827306)\n",
      "('2021-02-02T22:17:08', 11765865, 0.06090144030781753)\n",
      "('2021-02-03T21:25:42', 11772201, 0.05969401718952674)\n",
      "('2021-02-04T20:34:16', 11778537, 0.05969401718952674)\n",
      "('2021-02-05T19:42:50', 11784873, 0.05969401718952674)\n",
      "('2021-02-06T18:51:25', 11791208, 0.058491317837680586)\n",
      "('2021-02-07T17:59:59', 11797543, 0.05849899628756691)\n",
      "('2021-02-08T17:08:33', 11803879, 0.058504249587540344)\n",
      "('2021-02-09T16:17:07', 11810216, 0.058504249587540344)\n",
      "('2021-02-10T15:25:41', 11816551, 0.058504249587540344)\n",
      "('2021-02-11T14:34:15', 11822886, 0.0585104144836646)\n",
      "('2021-02-12T13:42:50', 11829222, 0.058514503197258934)\n",
      "('2021-02-13T12:51:24', 11835557, 0.05851930370434048)\n",
      "('2021-02-14T11:59:58', 11841893, 0.058585710859094135)\n",
      "('2021-02-15T11:08:32', 11848230, 0.058585710859094135)\n",
      "('2021-02-16T10:17:06', 11854564, 0.058679151529693295)\n",
      "('2021-02-17T09:25:40', 11860900, 0.058688810989678486)\n",
      "('2021-02-18T08:34:15', 11867237, 0.058688810989678486)\n",
      "('2021-02-19T07:42:49', 11873572, 0.058688810989678486)\n",
      "('2021-02-20T06:51:23', 11879908, 0.058688810989678486)\n",
      "('2021-02-21T05:59:57', 11886244, 0.058688810989678486)\n",
      "('2021-02-22T05:08:31', 11892579, 0.058688810989678486)\n",
      "('2021-02-23T04:17:05', 11898914, 0.05874423965928905)\n",
      "('2021-02-24T03:25:40', 11905250, 0.05877459108649449)\n",
      "('2021-02-25T02:34:14', 11911586, 0.05877459108649449)\n",
      "('2021-02-26T01:42:48', 11917921, 0.05878704960691083)\n"
     ]
    }
   ],
   "source": [
    "compound_api = 'https://api.compound.finance/api/v2/market_history/graph?asset={asset}&min_block_timestamp={start}&max_block_timestamp={end}&num_buckets={buckets}'.format\n",
    "\n",
    "start = dt.fromisoformat('2021-02-01')\n",
    "end = dt.fromisoformat('2021-02-28')\n",
    "\n",
    "req = compound_api(\n",
    "\tasset='0xf5dce57282a584d2746faf1593d3121fcac444dc', \n",
    "\tstart=int(start.timestamp()),\n",
    "\tend=int(end.timestamp()),\n",
    "\tbuckets=28)\n",
    "print(req)\n",
    "\n",
    "res = get(req).json()\n",
    "\n",
    "fields = list(res.keys())\n",
    "print(list(fields))\n",
    "\n",
    "data = [(dt.utcfromtimestamp(x['block_timestamp']).isoformat(), x['block_number'], x['rate']) for x in res['borrow_rates']]\n",
    "\n",
    "for r in data: \n",
    "\tprint(r)"
   ]
  }
 ],
 "metadata": {
  "kernelspec": {
   "display_name": "Python 3.9.2 64-bit",
   "metadata": {
    "interpreter": {
     "hash": "aee8b7b246df8f9039afb4144a1f6fd8d2ca17a180786b69acc140d282b71a49"
    }
   },
   "name": "python3"
  },
  "language_info": {
   "codemirror_mode": {
    "name": "ipython",
    "version": 3
   },
   "file_extension": ".py",
   "mimetype": "text/x-python",
   "name": "python",
   "nbconvert_exporter": "python",
   "pygments_lexer": "ipython3",
   "version": "3.9.2"
  },
  "orig_nbformat": 2
 },
 "nbformat": 4,
 "nbformat_minor": 2
}