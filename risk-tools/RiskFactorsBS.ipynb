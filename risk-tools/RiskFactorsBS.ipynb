{
 "cells": [
  {
   "cell_type": "code",
   "execution_count": 2,
   "metadata": {},
   "outputs": [],
   "source": [
    "# Set things up for later.\n",
    "from numpy import *\n",
    "import scipy.stats as stats\n",
    "from scipy.optimize import minimize_scalar\n",
    "\n",
    "# We set ourselves up for plots\n",
    "import matplotlib.pyplot as plt\n",
    "%matplotlib inline \n",
    "\n",
    "# Timing\n",
    "from timeit import default_timer as timer"
   ]
  },
  {
   "cell_type": "code",
   "execution_count": 13,
   "metadata": {},
   "outputs": [
    {
     "output_type": "stream",
     "name": "stdout",
     "text": [
      "Is short bigger: True\n===================================================================\nRisk factors: Short = 0.00987029, Long = 0.00977960.\n===================================================================\nMaximum leverage for Short = 101.3, Long = 102.3. \n"
     ]
    }
   ],
   "source": [
    "# See the notebook ES-Margins-Basics for derivation of these formulae\n",
    "def ExpectedShortfallLogNormal(mu, sigma, lambd):\n",
    "    es = -(1.0/lambd)*exp(mu+sigma*sigma*0.5)*stats.norm.cdf(stats.norm.ppf(lambd)-sigma)\n",
    "    return es\n",
    "\n",
    "def ExpectedShortfallNegativeLogNormal(mu, sigma, lambd):\n",
    "    return (1.0/lambd)*exp(mu+sigma*sigma*0.5)*(1-stats.norm.cdf(stats.norm.ppf(1-lambd)-sigma))\n",
    "\n",
    "def RiskFactorCalculator(sigma, lambd, tau, mu):\n",
    "    \"\"\"\n",
    "    params to calculate risk Factor\n",
    "    Returns a list of float numbers [riskFatorShort, riskFatorlong]\n",
    "    \"\"\"\n",
    "    muBar = (mu-0.5*sigma*sigma)*tau\n",
    "    sigmaBar = sqrt(tau)*sigma\n",
    "    riskFactorShort = ExpectedShortfallNegativeLogNormal(muBar, sigmaBar, lambd)-1.0\n",
    "    riskFactorLong = ExpectedShortfallLogNormal(muBar, sigmaBar, lambd)+1.0\n",
    "    \n",
    "    return [riskFactorShort, riskFactorLong]\n",
    "\n",
    "\n",
    "mu = 0.0; sigma = 1.8\n",
    "tau = 1.0 / 365.25 / 24 / 60\n",
    "lambd = 0.0001\n",
    "\n",
    "[riskFactorShort, riskFactorLong] = RiskFactorCalculator(sigma, lambd, tau, mu)\n",
    "\n",
    "print(\"===================================================================\")\n",
    "print(\"Risk factors: Short = %.8f, Long = %.8f.\" % (riskFactorShort, riskFactorLong))\n",
    "\n",
    "maxLevShort = 1./riskFactorShort\n",
    "maxLevLong = 1./riskFactorLong\n",
    "\n",
    "print(\"===================================================================\")\n",
    "print(\"Maximum leverage for Short = %.1f, Long = %.1f. \" % (maxLevShort, maxLevLong))\n"
   ]
  },
  {
   "cell_type": "markdown",
   "metadata": {},
   "source": [
    "## Expected shortfall for a Forward contract in Black-Scholes World\n",
    "We consider a forward contract which allows the purchase of one unit of a (risky) asset at a future time $T>t$ for $K$ units of currency. \n",
    "We assume that time-value of money is given by a risk-free asset\n",
    "$$dB_t = r B_t\\,dt\\,,\\,\\,\\, B_0 = 1$$\n",
    "\n",
    "The contract payoff (at time $T$) is $S_T - K$. \n",
    "The fair present value of this is $p_t = S_t - \\frac{B_t}{B_T}K$. \n",
    "We consider a trader who sold such contract. \n",
    "\n",
    "While no model for risky asset is needed to price forward contracts (the price follows form no-arbitrage reasoning in a model-free way), we do need a model to assess the risk.\n",
    "We assume that in the real world measure we have \n",
    "$$dS_t = \\mu S_t\\, dt + \\sigma S_t \\,dW_t\\,,\\,\\,\\,S_0 = S\\,.$$\n",
    "\n"
   ]
  },
  {
   "cell_type": "markdown",
   "metadata": {},
   "source": [
    "### One step\n",
    "At time $t+\\tau$ (with $\\tau > 0$ small) we have $p_{t+\\tau} = S_{t+\\tau} - \\frac{B_{t+\\tau}}{B_T}K$.\n",
    "Thus, due to cash invariance\n",
    "$$\\text{ES}_\\lambda(-p_{t+\\tau}) = \\text{ES}_\\lambda(-S_{t+\\tau}) - \\frac{B_{t+\\tau}}{B_T}K\\,.$$\n",
    "\n",
    "We can solve the SDE for $(S_t)$ with Ito formula to get\n",
    "$$S_{t+\\tau} = S_t\\exp\\left((\\mu-\\frac12 \\sigma^2)\\tau + \\sigma(W_{t+\\tau}-W_t)\\right)\\,.$$\n",
    "Recall that $W_{t+\\tau}-W_t \\sim \\sqrt{\\tau}N(0,1)$. \n",
    "Thus, with positive homogenienty of expected shortfall,\n",
    "$$\\text{ES}_\\lambda(-p_{t+\\tau}) = S_t \\, \\text{ES}_\\lambda(-X) - \\frac{B_{t+\\tau}}{B_T}K\\,,$$\n",
    "where $X:=\\exp(\\bar \\mu + \\bar \\sigma Z)$, with $Z\\sim N(0,1)$ \n",
    "\n",
    "\n",
    "and with $\\bar \\mu := (\\mu-\\frac12 \\sigma^2)\\tau$,  $\\bar \\sigma := \\sigma \\sqrt{\\tau}$."
   ]
  },
  {
   "cell_type": "markdown",
   "metadata": {},
   "source": [
    "# References\n",
    "[Follmer, H. and Schied, A. - Convex and coherent risk measures, 2008](https://www.math.hu-berlin.de/~foellmer/papers/CCRM.pdf)\n",
    "\n",
    "[Embrechts, P. and Wang, R. - Seven proofs for the subadditivity of expected shortfall, 2015](https://people.math.ethz.ch/~embrecht/ftp/Seven_Proofs.pdf)"
   ]
  }
 ],
 "metadata": {
  "kernelspec": {
   "display_name": "Python 3",
   "language": "python",
   "name": "python3"
  },
  "language_info": {
   "codemirror_mode": {
    "name": "ipython",
    "version": 3
   },
   "file_extension": ".py",
   "mimetype": "text/x-python",
   "name": "python",
   "nbconvert_exporter": "python",
   "pygments_lexer": "ipython3",
   "version": "3.7.3-final"
  }
 },
 "nbformat": 4,
 "nbformat_minor": 2
}