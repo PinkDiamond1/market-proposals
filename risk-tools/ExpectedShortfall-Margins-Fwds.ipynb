{
 "cells": [
  {
   "cell_type": "code",
   "execution_count": 1,
   "metadata": {},
   "outputs": [],
   "source": [
    "# Set things up for later.\n",
    "from numpy import *\n",
    "import scipy.stats as stats\n",
    "from scipy.optimize import minimize_scalar\n",
    "\n",
    "# We set ourselves up for plots\n",
    "import matplotlib.pyplot as plt\n",
    "%matplotlib inline \n",
    "\n",
    "# Timing\n",
    "from timeit import default_timer as timer"
   ]
  },
  {
   "cell_type": "code",
   "execution_count": 2,
   "metadata": {},
   "outputs": [],
   "source": [
    "# See the notebook ES-Margins-Basics for derivation of these formulae\n",
    "def ExpectedShortfallLogNormal(mu, sigma, lambd):\n",
    "    es = -(1.0/lambd)*exp(mu+sigma*sigma*0.5)*stats.norm.cdf(stats.norm.ppf(lambd)-sigma)\n",
    "    return es\n",
    "\n",
    "def ExpectedShortfallNegativeLogNormal(mu, sigma, lambd):\n",
    "    return (1.0/lambd)*exp(mu+sigma*sigma*0.5)*(1-stats.norm.cdf(stats.norm.ppf(1-lambd)-sigma))\n"
   ]
  },
  {
   "cell_type": "code",
   "execution_count": 3,
   "metadata": {},
   "outputs": [
    {
     "name": "stdout",
     "output_type": "stream",
     "text": [
      "-0.07253717078081977\n",
      "15.227960300878138\n"
     ]
    }
   ],
   "source": [
    "print(ExpectedShortfallLogNormal(0,1,0.01))\n",
    "print(ExpectedShortfallNegativeLogNormal(0,1,0.01))\n"
   ]
  },
  {
   "cell_type": "markdown",
   "metadata": {},
   "source": [
    "## Expected shortfall for a Forward contract in Black-Scholes World\n",
    "We consider a forward contract which allows the purchase of one unit of a (risky) asset at a future time $T>t$ for $K$ units of currency. \n",
    "We assume that time-value of money is given by a risk-free asset\n",
    "$$dB_t = r B_t\\,dt\\,,\\,\\,\\, B_0 = 1$$\n",
    "\n",
    "The contract payoff (at time $T$) is $S_T - K$. \n",
    "The fair present value of this is $p_t = S_t - \\frac{B_t}{B_T}K$. \n",
    "We consider a trader who sold such contract. \n",
    "\n",
    "While no model for risky asset is needed to price forward contracts (the price follows form no-arbitrage reasoning in a model-free way), we do need a model to assess the risk.\n",
    "We assume that in the real world measure we have \n",
    "$$dS_t = \\mu S_t\\, dt + \\sigma S_t \\,dW_t\\,,\\,\\,\\,S_0 = S\\,.$$\n",
    "\n"
   ]
  },
  {
   "cell_type": "markdown",
   "metadata": {},
   "source": [
    "### One step\n",
    "At time $t+\\tau$ (with $\\tau > 0$ small) we have $p_{t+\\tau} = S_{t+\\tau} - \\frac{B_{t+\\tau}}{B_T}K$.\n",
    "Thus, due to cash invariance\n",
    "$$\\text{ES}_\\lambda(-p_{t+\\tau}) = \\text{ES}_\\lambda(-S_{t+\\tau}) - \\frac{B_{t+\\tau}}{B_T}K\\,.$$\n",
    "\n",
    "We can solve the SDE for $(S_t)$ with Ito formula to get\n",
    "$$S_{t+\\tau} = S_t\\exp\\left((\\mu-\\frac12 \\sigma^2)\\tau + \\sigma(W_{t+\\tau}-W_t)\\right)\\,.$$\n",
    "Recall that $W_{t+\\tau}-W_t \\sim \\sqrt{\\tau}N(0,1)$. \n",
    "Thus, with positive homogenienty of expected shortfall,\n",
    "$$\\text{ES}_\\lambda(-p_{t+\\tau}) = S_t \\, \\text{ES}_\\lambda(-X) - \\frac{B_{t+\\tau}}{B_T}K\\,,$$\n",
    "where $X:=\\exp(\\bar \\mu + \\bar \\sigma Z)$, with $Z\\sim N(0,1)$ \n",
    "\n",
    "\n",
    "and with $\\bar \\mu := (\\mu-\\frac12 \\sigma^2)\\tau$,  $\\bar \\sigma := \\sigma \\sqrt{\\tau}$."
   ]
  },
  {
   "cell_type": "code",
   "execution_count": 4,
   "metadata": {},
   "outputs": [],
   "source": [
    "# in a long contract we get the asset S and pay the price K at time T.\n",
    "def LongFwdPrice(S, K, r, T):\n",
    "    return S - exp(-r*T)*K\n",
    "\n",
    "def LongFwdFairStrike(S,r,T):\n",
    "    return S*exp(r*T)\n",
    "\n",
    "def BSShortFwdMargin(lambd, tau, S, K, r, mu, sigma, T):\n",
    "    barMu = (mu-0.5*sigma*sigma)*tau; barSigma = sqrt(tau)*sigma;\n",
    "    esLogNegNorm = ExpectedShortfallNegativeLogNormal(barMu,barSigma,lambd);\n",
    "    esMargin = S*esLogNegNorm - K*exp(-r*(T-tau));\n",
    "    #print(esMargin);\n",
    "    return esMargin;\n",
    "\n",
    "#BlackScholesLongFwdMargin(p, tau, riskyPath[(i+1)*ScaleFactor], K, r, sigma, T-MarginTimeGrid[i+1])\n",
    "\n",
    "def BSLongFwdMargin(lambd, tau, S, K, r, mu, sigma, T):\n",
    "    barMu = (mu-0.5*sigma*sigma)*tau; barSigma = sqrt(tau)*sigma;\n",
    "    #print(\"Direct muBar %.5f and sigmaBar %.5f\" % (barMu, barSigma))\n",
    "    esLogNorm = ExpectedShortfallLogNormal(barMu,barSigma,lambd);\n",
    "    esMargin = S*esLogNorm + K*exp(-r*(T-tau));\n",
    "    return esMargin;\n",
    "\n",
    "def BSPortfolioFwdMargin(lambd, tau, S, r, mu, sigma, \n",
    "                         longNotionals, longStrikes, longExercise, \n",
    "                         shortNotionals, shortStrikes, shortExercise):\n",
    "    alpha = -sum(shortNotionals)+sum(longNotionals);\n",
    "    beta = 0.0;\n",
    "    for i in range (0, len(shortNotionals)):\n",
    "        beta = beta - shortNotionals[i]*exp(-r*(shortExercise[i]-tau))*shortStrikes[i];\n",
    "    \n",
    "    for i in range (0, len(longNotionals)):\n",
    "        beta = beta + longNotionals[i]*exp(-r*(longExercise[i]-tau))*longStrikes[i];\n",
    "    \n",
    "    #print('alpha=%.2f, beta=%.2f' % (alpha, beta))\n",
    "    \n",
    "    barMu = (mu-0.5*sigma*sigma)*tau; barSigma = sqrt(tau)*sigma;\n",
    "    esMargin = 0.0;\n",
    "    if (alpha >= 0.0):\n",
    "        esLogNorm = ExpectedShortfallLogNormal(barMu,barSigma,lambd);\n",
    "        esMargin = alpha*S*esLogNorm + beta;\n",
    "    else:\n",
    "        esNegLogNorm = ExpectedShortfallNegativeLogNormal(barMu,barSigma,lambd);\n",
    "        esMargin = -alpha*S*esNegLogNorm + beta;\n",
    "    return esMargin;"
   ]
  },
  {
   "cell_type": "code",
   "execution_count": 5,
   "metadata": {},
   "outputs": [
    {
     "name": "stdout",
     "output_type": "stream",
     "text": [
      "LongFwdMargin 19.101\n",
      "ShortFwdMargin 22.925\n",
      "Clearly margin for long should be less than margin for short and we see this is: True.\n"
     ]
    }
   ],
   "source": [
    "# Let's have a look at a long position i.e. fwd payoff is S_T - K. \n",
    "# this situation our liability is K - S_T which is at most K (since S_T is always > 0)\n",
    "\n",
    "S = 100; r = 0.0; mu = 0.; T = 1.0; sigma = 1.5;\n",
    "tau = 1.0/365.25; \n",
    "lambd = 0.01;\n",
    "K = LongFwdFairStrike(S, r, T)\n",
    "\n",
    "longFwdMargin = BSLongFwdMargin(lambd, tau, S, K, r, mu, sigma, T)\n",
    "print(\"LongFwdMargin %.3f\" % longFwdMargin)\n",
    "\n",
    "# Now for a short forward i.e. payoff K - S_T.\n",
    "# In this situation our liability is S_T - K and since S_T can be arbitrarily large, our liability is arbitrarily large\n",
    "shortFwdMargin = BSShortFwdMargin(lambd, tau, S, K, r, mu, sigma, T)\n",
    "print(\"ShortFwdMargin %.3f\" % shortFwdMargin)\n",
    "print(\"Clearly margin for long should be less than margin for short and we see this is: %r.\" % (longFwdMargin <= shortFwdMargin))"
   ]
  },
  {
   "cell_type": "code",
   "execution_count": 27,
   "metadata": {},
   "outputs": [
    {
     "name": "stdout",
     "output_type": "stream",
     "text": [
      "Is short bigger: True\n",
      "Risk factor short 0.08864696, long 0.08227992\n",
      "Risk factor short - long 0.00636704\n",
      "LongFwdMargin direct 16.456 and LongFwdMarginPandL 16.456\n",
      "ShortFwdMargin direct 17.729 and ShortFwdMarginPandL 17.729\n",
      "Vol = 3.00, Shorts: initial 26.594, maintenance 16.456\n"
     ]
    }
   ],
   "source": [
    "# Let's see the margin in terms of P&L\n",
    "\n",
    "def RiskFactorCalculator(sigma, lambd, tau, mu):\n",
    "    \"\"\"\n",
    "    params to calculate risk Factor\n",
    "    Returns a list of float numbers [riskFatorShort, riskFatorlong]\n",
    "    \"\"\"\n",
    "    muBar = (mu-0.5*sigma*sigma)*tau\n",
    "    sigmaBar = sqrt(tau)*sigma\n",
    "    #print(\"PandL muBar %.5f and sigmaBar %.5f\" % (muBar, sigmaBar))\n",
    "    riskFactorShort = ExpectedShortfallNegativeLogNormal(muBar, sigmaBar, lambd)-1.0\n",
    "    riskFactorLong = ExpectedShortfallLogNormal(muBar, sigmaBar, lambd)+1.0\n",
    "    print(\"Is short bigger: %r\" % (riskFactorShort >= riskFactorLong)) #testing if short is larger than long\n",
    "    \n",
    "    return [riskFactorShort, riskFactorLong]\n",
    "\n",
    "\n",
    "r = 0.0; mu = 0.0; T = 1.0; sigma = 3.;\n",
    "#tau = 1.0/365.25; \n",
    "tau = 1.0 / 365.25 / 24\n",
    "lambd = 0.01;\n",
    "\n",
    "K_0 = 200;\n",
    "K_1 = 200;\n",
    "\n",
    "[riskFactorShort, riskFactorLong] = RiskFactorCalculator(sigma, lambd, tau, mu)\n",
    "# print(\"Risk factor short %.10e, long %.10e\" % (riskFactorShort, riskFactorLong))\n",
    "print(\"Risk factor short %.8f, long %.8f\" % (riskFactorShort, riskFactorLong))\n",
    "print(\"Risk factor short - long %.8f\" % (riskFactorShort - riskFactorLong))\n",
    "\n",
    "# Say I entered a long at K_0\n",
    "marginLongFromPandL = K_0 - K_1 + K_1*riskFactorLong\n",
    "marginLongDirect = BSLongFwdMargin(lambd, tau, K_1, K_0, r, mu, sigma, T)\n",
    "print(\"LongFwdMargin direct %.3f and LongFwdMarginPandL %.3f\" % (marginLongDirect, marginLongFromPandL))\n",
    "\n",
    "# Say I entered a short at K_0\n",
    "marginShortFromPandL = K_1 - K_0 + K_1*riskFactorShort\n",
    "marginShortDirect = BSShortFwdMargin(lambd, tau, K_1, K_0, r, mu, sigma, T)\n",
    "print(\"ShortFwdMargin direct %.3f and ShortFwdMarginPandL %.3f\" % (marginShortDirect, marginShortFromPandL))\n",
    "\n",
    "# initial margin scaling factor\n",
    "alpha_init = 0.5\n",
    "print(\"Vol = %.2f, Shorts: initial %.3f, maintenance %.3f\" % (sigma,(1+alpha_init)*marginShortFromPandL, marginLongFromPandL))\n",
    "\n",
    "\n",
    "\n",
    "\n"
   ]
  },
  {
   "cell_type": "code",
   "execution_count": 7,
   "metadata": {},
   "outputs": [
    {
     "name": "stdout",
     "output_type": "stream",
     "text": [
      "long only\n"
     ]
    },
    {
     "ename": "TypeError",
     "evalue": "BSPortfolioFwdMargin() missing 1 required positional argument: 'shortExercise'",
     "output_type": "error",
     "traceback": [
      "\u001b[0;31m---------------------------------------------------------------------------\u001b[0m",
      "\u001b[0;31mTypeError\u001b[0m                                 Traceback (most recent call last)",
      "\u001b[0;32m<ipython-input-7-d4db13363d1d>\u001b[0m in \u001b[0;36m<module>\u001b[0;34m()\u001b[0m\n\u001b[1;32m     13\u001b[0m print(BSPortfolioFwdMargin(0.01, tau, S, r, sigma, \n\u001b[1;32m     14\u001b[0m                          \u001b[0mlongNotionals\u001b[0m\u001b[0;34m,\u001b[0m \u001b[0mlongStrikes\u001b[0m\u001b[0;34m,\u001b[0m \u001b[0mlongExercise\u001b[0m\u001b[0;34m,\u001b[0m\u001b[0;34m\u001b[0m\u001b[0;34m\u001b[0m\u001b[0m\n\u001b[0;32m---> 15\u001b[0;31m                          [], [], []))\n\u001b[0m\u001b[1;32m     16\u001b[0m \u001b[0;34m\u001b[0m\u001b[0m\n\u001b[1;32m     17\u001b[0m \u001b[0mprint\u001b[0m\u001b[0;34m(\u001b[0m\u001b[0mBSLongFwdMargin\u001b[0m\u001b[0;34m(\u001b[0m\u001b[0;36m0.01\u001b[0m\u001b[0;34m,\u001b[0m\u001b[0mtau\u001b[0m\u001b[0;34m,\u001b[0m\u001b[0mS\u001b[0m\u001b[0;34m,\u001b[0m\u001b[0mLongFwdFairStrike\u001b[0m\u001b[0;34m(\u001b[0m\u001b[0mS\u001b[0m\u001b[0;34m,\u001b[0m \u001b[0mr\u001b[0m\u001b[0;34m,\u001b[0m \u001b[0mT\u001b[0m\u001b[0;34m)\u001b[0m\u001b[0;34m,\u001b[0m\u001b[0mr\u001b[0m\u001b[0;34m,\u001b[0m\u001b[0msigma\u001b[0m\u001b[0;34m,\u001b[0m\u001b[0mT\u001b[0m\u001b[0;34m)\u001b[0m\u001b[0;34m)\u001b[0m\u001b[0;34m\u001b[0m\u001b[0;34m\u001b[0m\u001b[0m\n",
      "\u001b[0;31mTypeError\u001b[0m: BSPortfolioFwdMargin() missing 1 required positional argument: 'shortExercise'"
     ]
    }
   ],
   "source": [
    "# Set up some basic parameters\n",
    "S = 100; r = 0.05; mu = 0.1; T = 1.0;\n",
    "longStrikes = [LongFwdFairStrike(S, r, T)];\n",
    "longNotionals = [1.0];\n",
    "longExercise = [T];\n",
    "\n",
    "N = 250;\n",
    "tau = T/N;\n",
    "sigma = 0.1;\n",
    "\n",
    "\n",
    "print(\"long only\")\n",
    "print(BSPortfolioFwdMargin(0.01, tau, S, r, sigma, \n",
    "                         longNotionals, longStrikes, longExercise, \n",
    "                         [], [], []))\n",
    "\n",
    "print(BSLongFwdMargin(0.01,tau,S,LongFwdFairStrike(S, r, T),r,sigma,T))\n",
    "\n",
    "print(\"short only\")\n",
    "shortStrikes = [LongFwdFairStrike(S, r, T)];\n",
    "shortNotionals = [1.0];\n",
    "shortExercise = [T];\n",
    "\n",
    "print(BSPortfolioFwdMargin(0.01, tau, S, r, sigma, \n",
    "                         [], [], [], \n",
    "                         shortNotionals, shortStrikes, shortExercise))\n",
    "\n",
    "print(BSShortFwdMargin(0.01,tau,S,LongFwdFairStrike(S, r, T),r,sigma,T))\n",
    "\n",
    "print(\"long and short - should net fully!\")\n",
    "print(BSPortfolioFwdMargin(0.01, tau, S, r, sigma, \n",
    "                         longNotionals, longStrikes, longExercise, \n",
    "                         shortNotionals, shortStrikes, shortExercise))\n",
    "\n"
   ]
  },
  {
   "cell_type": "code",
   "execution_count": 7,
   "metadata": {},
   "outputs": [
    {
     "ename": "TypeError",
     "evalue": "BSLongFwdMargin() missing 1 required positional argument: 'T'",
     "output_type": "error",
     "traceback": [
      "\u001b[0;31m---------------------------------------------------------------------------\u001b[0m",
      "\u001b[0;31mTypeError\u001b[0m                                 Traceback (most recent call last)",
      "\u001b[0;32m<ipython-input-7-c56475fd7553>\u001b[0m in \u001b[0;36m<module>\u001b[0;34m\u001b[0m\n\u001b[1;32m      7\u001b[0m \u001b[0;34m\u001b[0m\u001b[0m\n\u001b[1;32m      8\u001b[0m \u001b[0mlambdaVals\u001b[0m \u001b[0;34m=\u001b[0m \u001b[0mlinspace\u001b[0m\u001b[0;34m(\u001b[0m\u001b[0;36m0.001\u001b[0m\u001b[0;34m,\u001b[0m\u001b[0;36m0.2\u001b[0m\u001b[0;34m,\u001b[0m\u001b[0;36m100\u001b[0m\u001b[0;34m)\u001b[0m\u001b[0;34m\u001b[0m\u001b[0;34m\u001b[0m\u001b[0m\n\u001b[0;32m----> 9\u001b[0;31m \u001b[0mmarginValuesLong\u001b[0m \u001b[0;34m=\u001b[0m \u001b[0mBSLongFwdMargin\u001b[0m\u001b[0;34m(\u001b[0m\u001b[0mlambdaVals\u001b[0m\u001b[0;34m,\u001b[0m \u001b[0mtau\u001b[0m\u001b[0;34m,\u001b[0m \u001b[0mS\u001b[0m\u001b[0;34m,\u001b[0m \u001b[0mK\u001b[0m\u001b[0;34m,\u001b[0m \u001b[0mr\u001b[0m\u001b[0;34m,\u001b[0m \u001b[0msigma\u001b[0m\u001b[0;34m,\u001b[0m \u001b[0mT\u001b[0m\u001b[0;34m)\u001b[0m\u001b[0;34m\u001b[0m\u001b[0;34m\u001b[0m\u001b[0m\n\u001b[0m\u001b[1;32m     10\u001b[0m \u001b[0mmarginValuesShort\u001b[0m \u001b[0;34m=\u001b[0m \u001b[0mBSShortFwdMargin\u001b[0m\u001b[0;34m(\u001b[0m\u001b[0mlambdaVals\u001b[0m\u001b[0;34m,\u001b[0m \u001b[0mtau\u001b[0m\u001b[0;34m,\u001b[0m \u001b[0mS\u001b[0m\u001b[0;34m,\u001b[0m \u001b[0mK\u001b[0m\u001b[0;34m,\u001b[0m \u001b[0mr\u001b[0m\u001b[0;34m,\u001b[0m \u001b[0msigma\u001b[0m\u001b[0;34m,\u001b[0m \u001b[0mT\u001b[0m\u001b[0;34m)\u001b[0m\u001b[0;34m\u001b[0m\u001b[0;34m\u001b[0m\u001b[0m\n\u001b[1;32m     11\u001b[0m \u001b[0;34m\u001b[0m\u001b[0m\n",
      "\u001b[0;31mTypeError\u001b[0m: BSLongFwdMargin() missing 1 required positional argument: 'T'"
     ]
    }
   ],
   "source": [
    "# Set up some basic parameters\n",
    "S = 100.0; r = 0.05; mu = 0.1; T = 1.0;\n",
    "K = LongFwdFairStrike(S, r, T);\n",
    "N = 365*24;\n",
    "tau = T/N;\n",
    "sigma = .7;\n",
    "\n",
    "lambdaVals = linspace(0.001,0.2,100)\n",
    "marginValuesLong = BSLongFwdMargin(lambdaVals, tau, S, K, r, sigma, T)\n",
    "marginValuesShort = BSShortFwdMargin(lambdaVals, tau, S, K, r, sigma, T)\n",
    "\n",
    "plt.plot(lambdaVals, marginValuesLong, '-r', label='Long fwd')\n",
    "plt.plot(lambdaVals, marginValuesShort, '-g', label='Short fwd')\n",
    "plt.title('Margin amount - fwd with price %.2f' % LongFwdPrice(S,K,r,T))\n",
    "plt.ylabel('Margin amount');\n",
    "plt.xlabel('lambda');\n",
    "plt.legend();\n",
    "margin = BSLongFwdMargin(0.01, tau, S, K, r, sigma, T)\n",
    "print(\"To be 99%% sure that there is no loss until next margin call we need margin %.2f\" % margin)\n",
    "print(\"This is %.2f %% of the trade price\" % (100.*margin/K))\n",
    "\n"
   ]
  },
  {
   "cell_type": "code",
   "execution_count": 9,
   "metadata": {},
   "outputs": [
    {
     "ename": "TypeError",
     "evalue": "BSShortFwdMargin() missing 1 required positional argument: 'T'",
     "output_type": "error",
     "traceback": [
      "\u001b[0;31m---------------------------------------------------------------------------\u001b[0m",
      "\u001b[0;31mTypeError\u001b[0m                                 Traceback (most recent call last)",
      "\u001b[0;32m<ipython-input-9-f42a6a0d4679>\u001b[0m in \u001b[0;36m<module>\u001b[0;34m()\u001b[0m\n\u001b[1;32m     30\u001b[0m \u001b[0;34m\u001b[0m\u001b[0m\n\u001b[1;32m     31\u001b[0m \u001b[0;34m\u001b[0m\u001b[0m\n\u001b[0;32m---> 32\u001b[0;31m \u001b[0mMarginValues\u001b[0m\u001b[0;34m[\u001b[0m\u001b[0;36m0\u001b[0m\u001b[0;34m]\u001b[0m \u001b[0;34m=\u001b[0m \u001b[0mBSShortFwdMargin\u001b[0m\u001b[0;34m(\u001b[0m\u001b[0;36m1\u001b[0m\u001b[0;34m-\u001b[0m\u001b[0mpBar\u001b[0m\u001b[0;34m,\u001b[0m \u001b[0mtau\u001b[0m\u001b[0;34m,\u001b[0m \u001b[0mS\u001b[0m\u001b[0;34m,\u001b[0m \u001b[0mK\u001b[0m\u001b[0;34m,\u001b[0m \u001b[0mr\u001b[0m\u001b[0;34m,\u001b[0m \u001b[0msigma\u001b[0m\u001b[0;34m,\u001b[0m \u001b[0mT\u001b[0m\u001b[0;34m)\u001b[0m\u001b[0;34m\u001b[0m\u001b[0;34m\u001b[0m\u001b[0m\n\u001b[0m\u001b[1;32m     33\u001b[0m \u001b[0;34m\u001b[0m\u001b[0m\n\u001b[1;32m     34\u001b[0m \u001b[0;34m\u001b[0m\u001b[0m\n",
      "\u001b[0;31mTypeError\u001b[0m: BSShortFwdMargin() missing 1 required positional argument: 'T'"
     ]
    },
    {
     "data": {
      "image/png": "[encoded data removed]",
      "text/plain": [
       "<Figure size 864x288 with 1 Axes>"
      ]
     },
     "metadata": {},
     "output_type": "display_data"
    }
   ],
   "source": [
    "%run bs_paths.py\n",
    "\n",
    "random.seed(8) # we want reproducibility for now\n",
    "\n",
    "MarginCallsN = 365; # number of trading days in a year times hours\n",
    "T = 1.0; # one year\n",
    "tau = T/MarginCallsN; # margin call every day\n",
    "pBar = 0.9999;\n",
    "\n",
    "ScaleFactor = 10;\n",
    "SimulationN = ScaleFactor*MarginCallsN;\n",
    "dt = T/SimulationN;\n",
    "S = 100;  r = 0.; mu = 0.1; sigma = 1.15;\n",
    "\n",
    "# Start generating the path\n",
    "simTimeGrid = linspace(0,T,SimulationN);\n",
    "BSPathGen = BlackSholesPathGen(simTimeGrid, S, mu, sigma);\n",
    "riskyPath = BSPathGen.GetPath();\n",
    "\n",
    "K = LongFwdFairStrike(riskyPath[0],r,T);\n",
    "longFwdPathGen = LongFwdValsGen(simTimeGrid, riskyPath, K, r, T);\n",
    "longFwdVals = longFwdPathGen.GetPath();\n",
    "\n",
    "plt.rcParams[\"figure.figsize\"] = [12, 4];\n",
    "plt.plot(simTimeGrid, longFwdVals, label='Liability')\n",
    "    \n",
    "# Now we calculate what would happen with the margin account    \n",
    "MarginTimeGrid = linspace(0,T,MarginCallsN)\n",
    "MarginValues = zeros(MarginCallsN);\n",
    "\n",
    "\n",
    "MarginValues[0] = BSShortFwdMargin(1-pBar, tau, S, K, r, sigma, T)\n",
    "\n",
    "\n",
    "# Conservative margin\n",
    "gamma = 0.5; # we will multiply minimumMarginValues by 1+gamma for this type of account\n",
    "phi = 0.8; # we will apply gamma * minimumMargin if minimumMargin > 0.9 * conservativeMargin\n",
    "conservativeMargin = zeros(MarginCallsN);\n",
    "conservativeMargin[0] = (1+gamma)*MarginValues[0];\n",
    "\n",
    "\n",
    "\n",
    "Losses = zeros(MarginCallsN);\n",
    "for i in range (0, MarginCallsN - 1):\n",
    "    Losses[i+1] = max(longFwdVals[(i+1)*ScaleFactor] - MarginValues[i],0)\n",
    "    p = pBar**(1.0/(MarginCallsN-i))\n",
    "    #MarginValues[i+1] = BlackScholesLongFwdMargin(p, tau, riskyPath[(i+1)*ScaleFactor], K, r, sigma, T-MarginTimeGrid[i+1])\n",
    "    MarginValues[i+1] = BSShortFwdMargin(1-pBar, tau, riskyPath[(i+1)*ScaleFactor], K, r, sigma, T-MarginTimeGrid[i+1])\n",
    "    if (MarginValues[i+1] > phi * conservativeMargin[i]):\n",
    "        conservativeMargin[i+1] = (1+gamma)*MarginValues[i+1];\n",
    "    else:\n",
    "        conservativeMargin[i+1] = conservativeMargin[i]\n",
    "    \n",
    "    \n",
    "plt.plot(MarginTimeGrid, MarginValues, label='Min margin level')\n",
    "plt.plot(MarginTimeGrid, conservativeMargin, label='Conservative margin level')\n",
    "\n",
    "MarginValsDelta = MarginValues[0:(MarginCallsN-2)] - MarginValues[1:(MarginCallsN-1)]\n",
    "conservativeMarginDelta = conservativeMargin[0:(MarginCallsN-2)] - conservativeMargin[1:(MarginCallsN-1)]\n",
    "plt.plot(MarginTimeGrid[1:(MarginCallsN-1)], MarginValsDelta, label='Changes in min margin')\n",
    "plt.plot(MarginTimeGrid[1:(MarginCallsN-1)], conservativeMarginDelta, label='Changes in conservative margin')\n",
    "\n",
    "plt.legend();\n",
    "print('Maximum loss %.2f' % max(Losses))\n",
    "\n"
   ]
  },
  {
   "cell_type": "markdown",
   "metadata": {},
   "source": [
    "# Historical experiments with ETHBTC data "
   ]
  },
  {
   "cell_type": "code",
   "execution_count": 10,
   "metadata": {},
   "outputs": [],
   "source": [
    "def logReturns(S):\n",
    "    return log(S/S.shift(1));\n",
    "\n",
    "# assumes times come as unix times i.e. number of seconds from a date in the past\n",
    "def volFromTimeSeriesPerSecond(prices, timeStamps):\n",
    "    if (size(prices)<= 2):\n",
    "        raise ValueError('we need more prices than 2')\n",
    "    x = logReturns(prices)[1:]; # the value at the first index is NaN\n",
    "    xBar = mean(x);\n",
    "    deltaT = (timeStamps - timeStamps.shift(1))[1:]; # the value at the first index is NaN\n",
    "    deltaT = deltaT/1000.0;     \n",
    "    N = size(x);\n",
    "    return sqrt(sum((x-xBar)*(x-xBar)/deltaT)/(N-1));\n",
    "\n",
    "def volFromTimeSeriesPerHour(prices,timeStamps):\n",
    "    return volFromTimeSeriesPerSecond(prices, timeStamps)*sqrt(3600.0)\n",
    "\n",
    "def volFromTimeSeriesPerDay(prices,timeStamps):\n",
    "    return volFromTimeSeriesPerSecond(prices, timeStamps)*sqrt(3600.0*24)\n",
    "\n",
    "def volFromTimeSeriesPerYear(prices,timeStamps):\n",
    "    return volFromTimeSeriesPerSecond(prices, timeStamps)*sqrt(3600.0*24*365.25)\n"
   ]
  },
  {
   "cell_type": "code",
   "execution_count": 11,
   "metadata": {},
   "outputs": [],
   "source": [
    "import pandas as pd\n",
    "from datetime import datetime"
   ]
  },
  {
   "cell_type": "code",
   "execution_count": 12,
   "metadata": {},
   "outputs": [
    {
     "ename": "FileNotFoundError",
     "evalue": "[Errno 2] File b'../marketdata/binance/001/trades/ETHBTC-formatted_unixtimes.csv' does not exist: b'../marketdata/binance/001/trades/ETHBTC-formatted_unixtimes.csv'",
     "output_type": "error",
     "traceback": [
      "\u001b[0;31m---------------------------------------------------------------------------\u001b[0m",
      "\u001b[0;31mFileNotFoundError\u001b[0m                         Traceback (most recent call last)",
      "\u001b[0;32m<ipython-input-12-88917dc09f71>\u001b[0m in \u001b[0;36m<module>\u001b[0;34m()\u001b[0m\n\u001b[0;32m----> 1\u001b[0;31m \u001b[0mtrades\u001b[0m \u001b[0;34m=\u001b[0m \u001b[0mpd\u001b[0m\u001b[0;34m.\u001b[0m\u001b[0mread_csv\u001b[0m\u001b[0;34m(\u001b[0m\u001b[0;34m'../marketdata/binance/001/trades/ETHBTC-formatted_unixtimes.csv'\u001b[0m\u001b[0;34m)\u001b[0m\u001b[0;34m\u001b[0m\u001b[0;34m\u001b[0m\u001b[0m\n\u001b[0m\u001b[1;32m      2\u001b[0m \u001b[0;34m\u001b[0m\u001b[0m\n\u001b[1;32m      3\u001b[0m \u001b[0mprint\u001b[0m\u001b[0;34m(\u001b[0m\u001b[0;34m\"Total samples before removing duplicate timestamps :\"\u001b[0m\u001b[0;34m,\u001b[0m \u001b[0mtrades\u001b[0m\u001b[0;34m.\u001b[0m\u001b[0mshape\u001b[0m\u001b[0;34m[\u001b[0m\u001b[0;36m0\u001b[0m\u001b[0;34m]\u001b[0m\u001b[0;34m)\u001b[0m\u001b[0;34m\u001b[0m\u001b[0;34m\u001b[0m\u001b[0m\n\u001b[1;32m      4\u001b[0m \u001b[0;34m\u001b[0m\u001b[0m\n\u001b[1;32m      5\u001b[0m \u001b[0;31m#deleting the equal ExactTimeStamps to avoid delta_t = 0\u001b[0m\u001b[0;34m\u001b[0m\u001b[0;34m\u001b[0m\u001b[0;34m\u001b[0m\u001b[0m\n",
      "\u001b[0;32m/anaconda3/lib/python3.6/site-packages/pandas/io/parsers.py\u001b[0m in \u001b[0;36mparser_f\u001b[0;34m(filepath_or_buffer, sep, delimiter, header, names, index_col, usecols, squeeze, prefix, mangle_dupe_cols, dtype, engine, converters, true_values, false_values, skipinitialspace, skiprows, skipfooter, nrows, na_values, keep_default_na, na_filter, verbose, skip_blank_lines, parse_dates, infer_datetime_format, keep_date_col, date_parser, dayfirst, iterator, chunksize, compression, thousands, decimal, lineterminator, quotechar, quoting, doublequote, escapechar, comment, encoding, dialect, tupleize_cols, error_bad_lines, warn_bad_lines, delim_whitespace, low_memory, memory_map, float_precision)\u001b[0m\n\u001b[1;32m    700\u001b[0m                     skip_blank_lines=skip_blank_lines)\n\u001b[1;32m    701\u001b[0m \u001b[0;34m\u001b[0m\u001b[0m\n\u001b[0;32m--> 702\u001b[0;31m         \u001b[0;32mreturn\u001b[0m \u001b[0m_read\u001b[0m\u001b[0;34m(\u001b[0m\u001b[0mfilepath_or_buffer\u001b[0m\u001b[0;34m,\u001b[0m \u001b[0mkwds\u001b[0m\u001b[0;34m)\u001b[0m\u001b[0;34m\u001b[0m\u001b[0;34m\u001b[0m\u001b[0m\n\u001b[0m\u001b[1;32m    703\u001b[0m \u001b[0;34m\u001b[0m\u001b[0m\n\u001b[1;32m    704\u001b[0m     \u001b[0mparser_f\u001b[0m\u001b[0;34m.\u001b[0m\u001b[0m__name__\u001b[0m \u001b[0;34m=\u001b[0m \u001b[0mname\u001b[0m\u001b[0;34m\u001b[0m\u001b[0;34m\u001b[0m\u001b[0m\n",
      "\u001b[0;32m/anaconda3/lib/python3.6/site-packages/pandas/io/parsers.py\u001b[0m in \u001b[0;36m_read\u001b[0;34m(filepath_or_buffer, kwds)\u001b[0m\n\u001b[1;32m    427\u001b[0m \u001b[0;34m\u001b[0m\u001b[0m\n\u001b[1;32m    428\u001b[0m     \u001b[0;31m# Create the parser.\u001b[0m\u001b[0;34m\u001b[0m\u001b[0;34m\u001b[0m\u001b[0;34m\u001b[0m\u001b[0m\n\u001b[0;32m--> 429\u001b[0;31m     \u001b[0mparser\u001b[0m \u001b[0;34m=\u001b[0m \u001b[0mTextFileReader\u001b[0m\u001b[0;34m(\u001b[0m\u001b[0mfilepath_or_buffer\u001b[0m\u001b[0;34m,\u001b[0m \u001b[0;34m**\u001b[0m\u001b[0mkwds\u001b[0m\u001b[0;34m)\u001b[0m\u001b[0;34m\u001b[0m\u001b[0;34m\u001b[0m\u001b[0m\n\u001b[0m\u001b[1;32m    430\u001b[0m \u001b[0;34m\u001b[0m\u001b[0m\n\u001b[1;32m    431\u001b[0m     \u001b[0;32mif\u001b[0m \u001b[0mchunksize\u001b[0m \u001b[0;32mor\u001b[0m \u001b[0miterator\u001b[0m\u001b[0;34m:\u001b[0m\u001b[0;34m\u001b[0m\u001b[0;34m\u001b[0m\u001b[0m\n",
      "\u001b[0;32m/anaconda3/lib/python3.6/site-packages/pandas/io/parsers.py\u001b[0m in \u001b[0;36m__init__\u001b[0;34m(self, f, engine, **kwds)\u001b[0m\n\u001b[1;32m    893\u001b[0m             \u001b[0mself\u001b[0m\u001b[0;34m.\u001b[0m\u001b[0moptions\u001b[0m\u001b[0;34m[\u001b[0m\u001b[0;34m'has_index_names'\u001b[0m\u001b[0;34m]\u001b[0m \u001b[0;34m=\u001b[0m \u001b[0mkwds\u001b[0m\u001b[0;34m[\u001b[0m\u001b[0;34m'has_index_names'\u001b[0m\u001b[0;34m]\u001b[0m\u001b[0;34m\u001b[0m\u001b[0;34m\u001b[0m\u001b[0m\n\u001b[1;32m    894\u001b[0m \u001b[0;34m\u001b[0m\u001b[0m\n\u001b[0;32m--> 895\u001b[0;31m         \u001b[0mself\u001b[0m\u001b[0;34m.\u001b[0m\u001b[0m_make_engine\u001b[0m\u001b[0;34m(\u001b[0m\u001b[0mself\u001b[0m\u001b[0;34m.\u001b[0m\u001b[0mengine\u001b[0m\u001b[0;34m)\u001b[0m\u001b[0;34m\u001b[0m\u001b[0;34m\u001b[0m\u001b[0m\n\u001b[0m\u001b[1;32m    896\u001b[0m \u001b[0;34m\u001b[0m\u001b[0m\n\u001b[1;32m    897\u001b[0m     \u001b[0;32mdef\u001b[0m \u001b[0mclose\u001b[0m\u001b[0;34m(\u001b[0m\u001b[0mself\u001b[0m\u001b[0;34m)\u001b[0m\u001b[0;34m:\u001b[0m\u001b[0;34m\u001b[0m\u001b[0;34m\u001b[0m\u001b[0m\n",
      "\u001b[0;32m/anaconda3/lib/python3.6/site-packages/pandas/io/parsers.py\u001b[0m in \u001b[0;36m_make_engine\u001b[0;34m(self, engine)\u001b[0m\n\u001b[1;32m   1120\u001b[0m     \u001b[0;32mdef\u001b[0m \u001b[0m_make_engine\u001b[0m\u001b[0;34m(\u001b[0m\u001b[0mself\u001b[0m\u001b[0;34m,\u001b[0m \u001b[0mengine\u001b[0m\u001b[0;34m=\u001b[0m\u001b[0;34m'c'\u001b[0m\u001b[0;34m)\u001b[0m\u001b[0;34m:\u001b[0m\u001b[0;34m\u001b[0m\u001b[0;34m\u001b[0m\u001b[0m\n\u001b[1;32m   1121\u001b[0m         \u001b[0;32mif\u001b[0m \u001b[0mengine\u001b[0m \u001b[0;34m==\u001b[0m \u001b[0;34m'c'\u001b[0m\u001b[0;34m:\u001b[0m\u001b[0;34m\u001b[0m\u001b[0;34m\u001b[0m\u001b[0m\n\u001b[0;32m-> 1122\u001b[0;31m             \u001b[0mself\u001b[0m\u001b[0;34m.\u001b[0m\u001b[0m_engine\u001b[0m \u001b[0;34m=\u001b[0m \u001b[0mCParserWrapper\u001b[0m\u001b[0;34m(\u001b[0m\u001b[0mself\u001b[0m\u001b[0;34m.\u001b[0m\u001b[0mf\u001b[0m\u001b[0;34m,\u001b[0m \u001b[0;34m**\u001b[0m\u001b[0mself\u001b[0m\u001b[0;34m.\u001b[0m\u001b[0moptions\u001b[0m\u001b[0;34m)\u001b[0m\u001b[0;34m\u001b[0m\u001b[0;34m\u001b[0m\u001b[0m\n\u001b[0m\u001b[1;32m   1123\u001b[0m         \u001b[0;32melse\u001b[0m\u001b[0;34m:\u001b[0m\u001b[0;34m\u001b[0m\u001b[0;34m\u001b[0m\u001b[0m\n\u001b[1;32m   1124\u001b[0m             \u001b[0;32mif\u001b[0m \u001b[0mengine\u001b[0m \u001b[0;34m==\u001b[0m \u001b[0;34m'python'\u001b[0m\u001b[0;34m:\u001b[0m\u001b[0;34m\u001b[0m\u001b[0;34m\u001b[0m\u001b[0m\n",
      "\u001b[0;32m/anaconda3/lib/python3.6/site-packages/pandas/io/parsers.py\u001b[0m in \u001b[0;36m__init__\u001b[0;34m(self, src, **kwds)\u001b[0m\n\u001b[1;32m   1851\u001b[0m         \u001b[0mkwds\u001b[0m\u001b[0;34m[\u001b[0m\u001b[0;34m'usecols'\u001b[0m\u001b[0;34m]\u001b[0m \u001b[0;34m=\u001b[0m \u001b[0mself\u001b[0m\u001b[0;34m.\u001b[0m\u001b[0musecols\u001b[0m\u001b[0;34m\u001b[0m\u001b[0;34m\u001b[0m\u001b[0m\n\u001b[1;32m   1852\u001b[0m \u001b[0;34m\u001b[0m\u001b[0m\n\u001b[0;32m-> 1853\u001b[0;31m         \u001b[0mself\u001b[0m\u001b[0;34m.\u001b[0m\u001b[0m_reader\u001b[0m \u001b[0;34m=\u001b[0m \u001b[0mparsers\u001b[0m\u001b[0;34m.\u001b[0m\u001b[0mTextReader\u001b[0m\u001b[0;34m(\u001b[0m\u001b[0msrc\u001b[0m\u001b[0;34m,\u001b[0m \u001b[0;34m**\u001b[0m\u001b[0mkwds\u001b[0m\u001b[0;34m)\u001b[0m\u001b[0;34m\u001b[0m\u001b[0;34m\u001b[0m\u001b[0m\n\u001b[0m\u001b[1;32m   1854\u001b[0m         \u001b[0mself\u001b[0m\u001b[0;34m.\u001b[0m\u001b[0munnamed_cols\u001b[0m \u001b[0;34m=\u001b[0m \u001b[0mself\u001b[0m\u001b[0;34m.\u001b[0m\u001b[0m_reader\u001b[0m\u001b[0;34m.\u001b[0m\u001b[0munnamed_cols\u001b[0m\u001b[0;34m\u001b[0m\u001b[0;34m\u001b[0m\u001b[0m\n\u001b[1;32m   1855\u001b[0m \u001b[0;34m\u001b[0m\u001b[0m\n",
      "\u001b[0;32mpandas/_libs/parsers.pyx\u001b[0m in \u001b[0;36mpandas._libs.parsers.TextReader.__cinit__\u001b[0;34m()\u001b[0m\n",
      "\u001b[0;32mpandas/_libs/parsers.pyx\u001b[0m in \u001b[0;36mpandas._libs.parsers.TextReader._setup_parser_source\u001b[0;34m()\u001b[0m\n",
      "\u001b[0;31mFileNotFoundError\u001b[0m: [Errno 2] File b'../marketdata/binance/001/trades/ETHBTC-formatted_unixtimes.csv' does not exist: b'../marketdata/binance/001/trades/ETHBTC-formatted_unixtimes.csv'"
     ]
    }
   ],
   "source": [
    "trades = pd.read_csv('../marketdata/binance/001/trades/ETHBTC-formatted_unixtimes.csv')\n",
    "\n",
    "print(\"Total samples before removing duplicate timestamps :\", trades.shape[0])\n",
    "\n",
    "#deleting the equal ExactTimeStamps to avoid delta_t = 0\n",
    "trades.drop_duplicates('ExactTimeStamp', keep='first', inplace=True)\n",
    "\n",
    "print(\"Total samples after :\", trades.shape[0])\n",
    "\n",
    "firstTime = trades['ExactTimeStamp'][0]\n",
    "firstTimeAsDatetime = datetime.utcfromtimestamp(firstTime/1000.0);\n",
    "N = size(trades['ExactTimeStamp'])\n",
    "lastTime = trades['ExactTimeStamp'][N-1]\n",
    "lastTimeAsDatetime = datetime.utcfromtimestamp(lastTime/1000.0);\n",
    "print(\"First day \"+ firstTimeAsDatetime.strftime('%Y-%m-%d %H:%M:%S'))\n",
    "print(\"Last day \" + lastTimeAsDatetime.strftime('%Y-%m-%d %H:%M:%S'))\n",
    "\n"
   ]
  },
  {
   "cell_type": "code",
   "execution_count": 13,
   "metadata": {},
   "outputs": [
    {
     "ename": "NameError",
     "evalue": "name 'trades' is not defined",
     "output_type": "error",
     "traceback": [
      "\u001b[0;31m---------------------------------------------------------------------------\u001b[0m",
      "\u001b[0;31mNameError\u001b[0m                                 Traceback (most recent call last)",
      "\u001b[0;32m<ipython-input-13-dcc53aac1109>\u001b[0m in \u001b[0;36m<module>\u001b[0;34m()\u001b[0m\n\u001b[1;32m      1\u001b[0m \u001b[0;34m\u001b[0m\u001b[0m\n\u001b[0;32m----> 2\u001b[0;31m \u001b[0mprices\u001b[0m \u001b[0;34m=\u001b[0m \u001b[0;36m1.0\u001b[0m\u001b[0;34m/\u001b[0m\u001b[0mtrades\u001b[0m\u001b[0;34m[\u001b[0m\u001b[0;34m'Price'\u001b[0m\u001b[0;34m]\u001b[0m\u001b[0;34m\u001b[0m\u001b[0;34m\u001b[0m\u001b[0m\n\u001b[0m\u001b[1;32m      3\u001b[0m \u001b[0mprint\u001b[0m\u001b[0;34m(\u001b[0m\u001b[0;34m\"Vol is %.2f%% per second\"\u001b[0m \u001b[0;34m%\u001b[0m \u001b[0;34m(\u001b[0m\u001b[0;36m100.0\u001b[0m\u001b[0;34m*\u001b[0m\u001b[0mvolFromTimeSeriesPerSecond\u001b[0m\u001b[0;34m(\u001b[0m\u001b[0mprices\u001b[0m\u001b[0;34m,\u001b[0m \u001b[0mtrades\u001b[0m\u001b[0;34m[\u001b[0m\u001b[0;34m'ExactTimeStamp'\u001b[0m\u001b[0;34m]\u001b[0m\u001b[0;34m)\u001b[0m\u001b[0;34m)\u001b[0m\u001b[0;34m)\u001b[0m\u001b[0;34m\u001b[0m\u001b[0;34m\u001b[0m\u001b[0m\n\u001b[1;32m      4\u001b[0m \u001b[0mprint\u001b[0m\u001b[0;34m(\u001b[0m\u001b[0;34m\"Vol is %.2f%% per hour\"\u001b[0m \u001b[0;34m%\u001b[0m \u001b[0;34m(\u001b[0m\u001b[0;36m100.0\u001b[0m\u001b[0;34m*\u001b[0m\u001b[0mvolFromTimeSeriesPerHour\u001b[0m\u001b[0;34m(\u001b[0m\u001b[0mprices\u001b[0m\u001b[0;34m,\u001b[0m \u001b[0mtrades\u001b[0m\u001b[0;34m[\u001b[0m\u001b[0;34m'ExactTimeStamp'\u001b[0m\u001b[0;34m]\u001b[0m\u001b[0;34m)\u001b[0m\u001b[0;34m)\u001b[0m\u001b[0;34m)\u001b[0m\u001b[0;34m\u001b[0m\u001b[0;34m\u001b[0m\u001b[0m\n\u001b[1;32m      5\u001b[0m \u001b[0mprint\u001b[0m\u001b[0;34m(\u001b[0m\u001b[0;34m\"Vol is %.2f%% per day\"\u001b[0m \u001b[0;34m%\u001b[0m \u001b[0;34m(\u001b[0m\u001b[0;36m100.0\u001b[0m\u001b[0;34m*\u001b[0m\u001b[0mvolFromTimeSeriesPerDay\u001b[0m\u001b[0;34m(\u001b[0m\u001b[0mprices\u001b[0m\u001b[0;34m,\u001b[0m \u001b[0mtrades\u001b[0m\u001b[0;34m[\u001b[0m\u001b[0;34m'ExactTimeStamp'\u001b[0m\u001b[0;34m]\u001b[0m\u001b[0;34m)\u001b[0m\u001b[0;34m)\u001b[0m\u001b[0;34m)\u001b[0m\u001b[0;34m\u001b[0m\u001b[0;34m\u001b[0m\u001b[0m\n",
      "\u001b[0;31mNameError\u001b[0m: name 'trades' is not defined"
     ]
    }
   ],
   "source": [
    "\n",
    "prices = 1.0/trades['Price']\n",
    "print(\"Vol is %.2f%% per second\" % (100.0*volFromTimeSeriesPerSecond(prices, trades['ExactTimeStamp'])))\n",
    "print(\"Vol is %.2f%% per hour\" % (100.0*volFromTimeSeriesPerHour(prices, trades['ExactTimeStamp'])))\n",
    "print(\"Vol is %.2f%% per day\" % (100.0*volFromTimeSeriesPerDay(prices, trades['ExactTimeStamp'])))\n",
    "print(\"Vol is %.2f%% per year\" % (100.0*volFromTimeSeriesPerYear(prices, trades['ExactTimeStamp'])))"
   ]
  },
  {
   "cell_type": "code",
   "execution_count": 22,
   "metadata": {},
   "outputs": [
    {
     "name": "stdout",
     "output_type": "stream",
     "text": [
      "midle point time 2018-03-18 00:17:16\n",
      "Annualized vol until middle point 1723.22% per year\n"
     ]
    }
   ],
   "source": [
    "midN=int(floor(N/2))\n",
    "lastTime = trades['ExactTimeStamp'][midN]\n",
    "lastTimeAsDatetime = datetime.utcfromtimestamp(lastTime/1000.0);\n",
    "print(\"midle point time \"+ firstTimeAsDatetime.strftime('%Y-%m-%d %H:%M:%S'))\n",
    "volHistorical = volFromTimeSeriesPerYear(prices[1:midN], trades['ExactTimeStamp'][1:midN])\n",
    "print(\"Annualized vol until middle point %.2f%% per year\" % (100.0*volHistorical))"
   ]
  },
  {
   "cell_type": "code",
   "execution_count": 14,
   "metadata": {},
   "outputs": [
    {
     "ename": "NameError",
     "evalue": "name 'trades' is not defined",
     "output_type": "error",
     "traceback": [
      "\u001b[0;31m---------------------------------------------------------------------------\u001b[0m",
      "\u001b[0;31mNameError\u001b[0m                                 Traceback (most recent call last)",
      "\u001b[0;32m<ipython-input-14-fb406cd06410>\u001b[0m in \u001b[0;36m<module>\u001b[0;34m()\u001b[0m\n\u001b[1;32m      1\u001b[0m \u001b[0mget_ipython\u001b[0m\u001b[0;34m(\u001b[0m\u001b[0;34m)\u001b[0m\u001b[0;34m.\u001b[0m\u001b[0mrun_line_magic\u001b[0m\u001b[0;34m(\u001b[0m\u001b[0;34m'run'\u001b[0m\u001b[0;34m,\u001b[0m \u001b[0;34m'bs_paths.py'\u001b[0m\u001b[0;34m)\u001b[0m\u001b[0;34m\u001b[0m\u001b[0;34m\u001b[0m\u001b[0m\n\u001b[1;32m      2\u001b[0m \u001b[0;34m\u001b[0m\u001b[0m\n\u001b[0;32m----> 3\u001b[0;31m \u001b[0mprices\u001b[0m \u001b[0;34m=\u001b[0m \u001b[0;36m1.0\u001b[0m\u001b[0;34m/\u001b[0m\u001b[0mtrades\u001b[0m\u001b[0;34m[\u001b[0m\u001b[0;34m'Price'\u001b[0m\u001b[0;34m]\u001b[0m\u001b[0;34m\u001b[0m\u001b[0;34m\u001b[0m\u001b[0m\n\u001b[0m\u001b[1;32m      4\u001b[0m \u001b[0;34m\u001b[0m\u001b[0m\n\u001b[1;32m      5\u001b[0m \u001b[0;31m# assume zero interest rate\u001b[0m\u001b[0;34m\u001b[0m\u001b[0;34m\u001b[0m\u001b[0;34m\u001b[0m\u001b[0m\n",
      "\u001b[0;31mNameError\u001b[0m: name 'trades' is not defined"
     ]
    },
    {
     "data": {
      "text/plain": [
       "<Figure size 864x288 with 0 Axes>"
      ]
     },
     "metadata": {},
     "output_type": "display_data"
    }
   ],
   "source": [
    "%run bs_paths.py\n",
    "\n",
    "prices = 1.0/trades['Price']\n",
    "\n",
    "# assume zero interest rate\n",
    "r = 0.0;\n",
    "\n",
    "# margin call every minute\n",
    "numTradesBetweenMarginCalls = 100 # i.e. roughly one margin call per minute\n",
    "pBar = 0.99;\n",
    "\n",
    "simTimeGrid = array(trades['ExactTimeStamp'][midN:N-1])/1000.0/60/60/24/365.25\n",
    "simTimeGrid = simTimeGrid - simTimeGrid[0]\n",
    "riskyPath = array(prices[midN:N-1])\n",
    "\n",
    "T = simTimeGrid[simTimeGrid.size-1]\n",
    "K = LongFwdFairStrike(riskyPath[0],r,T);\n",
    "\n",
    "\n",
    "\n",
    "longFwdPathGen = LongFwdValsGen(simTimeGrid, riskyPath, K, r, T);\n",
    "longFwdVals = longFwdPathGen.GetPath();\n",
    "\n",
    "#plt.rcParams[\"figure.figsize\"] = [9, 4];\n",
    "plt.plot(simTimeGrid, longFwdVals, label='Liability (forward)')\n",
    "\n",
    "\n",
    "# Now we calculate what would happen with the margin account    \n",
    "MarginCallsN = int((size(simTimeGrid))/numTradesBetweenMarginCalls)\n",
    "MarginValues = zeros(MarginCallsN);\n",
    "MarginTimeGrid = zeros(MarginCallsN);\n",
    "\n",
    "\n",
    "tau = 5.0/365.25/24/60/60;\n",
    "print(\"Assumed time step as year fraction %.2e and in minutes %.2f\" % (tau,tau*365.25*24*60))\n",
    "MarginValues[0] = BSShortFwdMargin(1-pBar, tau, riskyPath[0], K, r, volHistorical, T)\n",
    "print(\"Asset value %.2f, fair strike %.2f.\" % (riskyPath[0], K))\n",
    "print(\"Margin amount %.3f.\" % MarginValues[0])\n",
    "\n",
    "\n",
    "# Conservative margin\n",
    "gamma = 0.5; # we will multiply minimumMarginValues by 1+gamma for this type of account\n",
    "phi = 0.8; # we will apply gamma * minimumMargin if minimumMargin > 0.9 * conservativeMargin\n",
    "conservativeMargin = zeros(MarginCallsN);\n",
    "conservativeMargin[0] = (1+gamma)*MarginValues[0];\n",
    "\n",
    "Losses = zeros(MarginCallsN);\n",
    "for i in range (0, MarginCallsN - 1):\n",
    "    MarginTimeGrid[i+1] = simTimeGrid[(i+1)*numTradesBetweenMarginCalls]\n",
    "    \n",
    "    # this is not correct as a different forward contract would have been entered ...\n",
    "    Losses[i+1] = max(longFwdVals[(i+1)*numTradesBetweenMarginCalls] - MarginValues[i],0)\n",
    "    \n",
    "    MarginValues[i+1] = BSShortFwdMargin(1-pBar, tau, \\\n",
    "                            riskyPath[(i+1)*numTradesBetweenMarginCalls], K, r, volHistorical, \\\n",
    "                            T-simTimeGrid[(i+1)*numTradesBetweenMarginCalls])\n",
    "    if (MarginValues[i+1] > phi * conservativeMargin[i]):\n",
    "        conservativeMargin[i+1] = (1+gamma)*MarginValues[i+1];\n",
    "    else:\n",
    "        conservativeMargin[i+1] = conservativeMargin[i]\n",
    "    \n",
    "    \n",
    "plt.plot(MarginTimeGrid, MarginValues, label='Min margin level')\n",
    "plt.plot(MarginTimeGrid, conservativeMargin, label='Conservative margin level')\n",
    "\n",
    "MarginValsDelta = MarginValues[0:(MarginCallsN-2)] - MarginValues[1:(MarginCallsN-1)]\n",
    "conservativeMarginDelta = conservativeMargin[0:(MarginCallsN-2)] - conservativeMargin[1:(MarginCallsN-1)]\n",
    "#plt.plot(MarginTimeGrid[1:(MarginCallsN-1)], MarginValsDelta, label='Changes in min margin')\n",
    "#plt.plot(MarginTimeGrid[1:(MarginCallsN-1)], conservativeMarginDelta, label='Changes in conservative margin')\n",
    "\n",
    "plt.legend();\n",
    "plt.ylabel(\"ETH\")\n",
    "plt.xlabel(\"Time as year fraction\")\n",
    "print('Maximum loss %.2f' % max(Losses))\n",
    "plt.title(\"ETHBTC Long fwd liability and margin evolution\")\n",
    "#plt.savefig('margin_on_binance_data-ETHBTC.eps', format='eps')\n",
    "\n",
    "\n"
   ]
  },
  {
   "cell_type": "code",
   "execution_count": 15,
   "metadata": {},
   "outputs": [
    {
     "name": "stdout",
     "output_type": "stream",
     "text": [
      "Margin amount over fair strike 0.000 in percent.\n"
     ]
    }
   ],
   "source": [
    "print(\"Margin amount over fair strike %.3f in percent.\" % (100.0*MarginValues[0]/K))"
   ]
  },
  {
   "cell_type": "code",
   "execution_count": 16,
   "metadata": {},
   "outputs": [
    {
     "ename": "NameError",
     "evalue": "name 'trades' is not defined",
     "output_type": "error",
     "traceback": [
      "\u001b[0;31m---------------------------------------------------------------------------\u001b[0m",
      "\u001b[0;31mNameError\u001b[0m                                 Traceback (most recent call last)",
      "\u001b[0;32m<ipython-input-16-2ece1e7de029>\u001b[0m in \u001b[0;36m<module>\u001b[0;34m()\u001b[0m\n\u001b[1;32m      1\u001b[0m \u001b[0mget_ipython\u001b[0m\u001b[0;34m(\u001b[0m\u001b[0;34m)\u001b[0m\u001b[0;34m.\u001b[0m\u001b[0mrun_line_magic\u001b[0m\u001b[0;34m(\u001b[0m\u001b[0;34m'run'\u001b[0m\u001b[0;34m,\u001b[0m \u001b[0;34m'bs_paths.py'\u001b[0m\u001b[0;34m)\u001b[0m\u001b[0;34m\u001b[0m\u001b[0;34m\u001b[0m\u001b[0m\n\u001b[1;32m      2\u001b[0m \u001b[0;34m\u001b[0m\u001b[0m\n\u001b[0;32m----> 3\u001b[0;31m \u001b[0mprices\u001b[0m \u001b[0;34m=\u001b[0m \u001b[0mtrades\u001b[0m\u001b[0;34m[\u001b[0m\u001b[0;34m'Price'\u001b[0m\u001b[0;34m]\u001b[0m\u001b[0;34m\u001b[0m\u001b[0;34m\u001b[0m\u001b[0m\n\u001b[0m\u001b[1;32m      4\u001b[0m \u001b[0;34m\u001b[0m\u001b[0m\n\u001b[1;32m      5\u001b[0m \u001b[0;31m# assume zero interest rate\u001b[0m\u001b[0;34m\u001b[0m\u001b[0;34m\u001b[0m\u001b[0;34m\u001b[0m\u001b[0m\n",
      "\u001b[0;31mNameError\u001b[0m: name 'trades' is not defined"
     ]
    }
   ],
   "source": [
    "%run bs_paths.py\n",
    "\n",
    "prices = trades['Price']\n",
    "\n",
    "# assume zero interest rate\n",
    "r = 0.0;\n",
    "\n",
    "# margin call every minute\n",
    "numTradesBetweenMarginCalls = 100 # i.e. roughly one margin call per minute\n",
    "pBar = 0.999;\n",
    "\n",
    "simTimeGrid = array(trades['ExactTimeStamp'][midN:N-1])/1000.0/60/60/24/365.25\n",
    "simTimeGrid = simTimeGrid - simTimeGrid[0]\n",
    "riskyPath = array(prices[midN:N-1])\n",
    "\n",
    "T = simTimeGrid[simTimeGrid.size-1]\n",
    "K = LongFwdFairStrike(riskyPath[0],r,T);\n",
    "\n",
    "\n",
    "\n",
    "longFwdPathGen = LongFwdValsGen(simTimeGrid, riskyPath, K, r, T);\n",
    "longFwdVals = longFwdPathGen.GetPath();\n",
    "\n",
    "#plt.rcParams[\"figure.figsize\"] = [9, 4];\n",
    "plt.plot(simTimeGrid, longFwdVals, label='Liability (forward)')\n",
    "\n",
    "\n",
    "# Now we calculate what would happen with the margin account    \n",
    "MarginCallsN = int((size(simTimeGrid))/numTradesBetweenMarginCalls)\n",
    "MarginValues = zeros(MarginCallsN);\n",
    "MarginTimeGrid = zeros(MarginCallsN);\n",
    "\n",
    "\n",
    "tau = 5.0/365.25/24/60/60;\n",
    "print(\"Assumed time step as year fraction %.2e and in minutes %.2f\" % (tau,tau*365.25*24*60))\n",
    "MarginValues[0] = BSShortFwdMargin(1-pBar, tau, riskyPath[0], K, r, volHistorical, T)\n",
    "print(\"Asset value %.2f, fair strike %.2f.\" % (prices[midN], K))\n",
    "print(\"Margin amount %.3f.\" % MarginValues[0])\n",
    "\n",
    "\n",
    "# Conservative margin\n",
    "gamma = 0.5; # we will multiply minimumMarginValues by 1+gamma for this type of account\n",
    "phi = 0.8; # we will apply gamma * minimumMargin if minimumMargin > 0.9 * conservativeMargin\n",
    "conservativeMargin = zeros(MarginCallsN);\n",
    "conservativeMargin[0] = (1+gamma)*MarginValues[0];\n",
    "\n",
    "Losses = zeros(MarginCallsN);\n",
    "for i in range (0, MarginCallsN - 1):\n",
    "    MarginTimeGrid[i+1] = simTimeGrid[(i+1)*numTradesBetweenMarginCalls]\n",
    "    Losses[i+1] = max(longFwdVals[(i+1)*numTradesBetweenMarginCalls] - MarginValues[i],0)\n",
    "    \n",
    "    MarginValues[i+1] = BSShortFwdMargin(1-pBar, tau, \\\n",
    "                            riskyPath[(i+1)*numTradesBetweenMarginCalls], K, r, volHistorical, \\\n",
    "                            T-simTimeGrid[(i+1)*numTradesBetweenMarginCalls])\n",
    "    if (MarginValues[i+1] > phi * conservativeMargin[i]):\n",
    "        conservativeMargin[i+1] = (1+gamma)*MarginValues[i+1];\n",
    "    else:\n",
    "        conservativeMargin[i+1] = conservativeMargin[i]\n",
    "    \n",
    "    \n",
    "plt.plot(MarginTimeGrid, MarginValues, label='Min margin level')\n",
    "plt.plot(MarginTimeGrid, conservativeMargin, label='Conservative margin level')\n",
    "\n",
    "MarginValsDelta = MarginValues[0:(MarginCallsN-2)] - MarginValues[1:(MarginCallsN-1)]\n",
    "conservativeMarginDelta = conservativeMargin[0:(MarginCallsN-2)] - conservativeMargin[1:(MarginCallsN-1)]\n",
    "#plt.plot(MarginTimeGrid[1:(MarginCallsN-1)], MarginValsDelta, label='Changes in min margin')\n",
    "#plt.plot(MarginTimeGrid[1:(MarginCallsN-1)], conservativeMarginDelta, label='Changes in conservative margin')\n",
    "\n",
    "plt.legend();\n",
    "plt.ylabel(\"BTC\")\n",
    "plt.xlabel(\"Time as year fraction\")\n",
    "print('Maximum loss %.2f' % max(Losses))\n",
    "plt.title(\"BTCETH Long fwd liability and margin evolution\")\n",
    "plt.savefig('margin_on_binance_data-BTCETH.eps', format='eps')"
   ]
  },
  {
   "cell_type": "code",
   "execution_count": 17,
   "metadata": {},
   "outputs": [
    {
     "name": "stdout",
     "output_type": "stream",
     "text": [
      "Margin amount over fair strike 0.000 in percent.\n"
     ]
    }
   ],
   "source": [
    "print(\"Margin amount over fair strike %.3f in percent.\" % (100.0*MarginValues[0]/K))"
   ]
  },
  {
   "cell_type": "markdown",
   "metadata": {},
   "source": [
    "# Historical experiments with BTCUSD index data"
   ]
  },
  {
   "cell_type": "code",
   "execution_count": 18,
   "metadata": {},
   "outputs": [],
   "source": [
    "#load the dataframe\n",
    "trades = pd.read_csv('../marketdata/price_index_derebit_2018_07_18.csv')"
   ]
  },
  {
   "cell_type": "code",
   "execution_count": 19,
   "metadata": {},
   "outputs": [],
   "source": [
    "%run bs_paths.py"
   ]
  },
  {
   "cell_type": "code",
   "execution_count": 20,
   "metadata": {},
   "outputs": [
    {
     "data": {
      "text/html": [
       "<div>\n",
       "<style scoped>\n",
       "    .dataframe tbody tr th:only-of-type {\n",
       "        vertical-align: middle;\n",
       "    }\n",
       "\n",
       "    .dataframe tbody tr th {\n",
       "        vertical-align: top;\n",
       "    }\n",
       "\n",
       "    .dataframe thead th {\n",
       "        text-align: right;\n",
       "    }\n",
       "</style>\n",
       "<table border=\"1\" class=\"dataframe\">\n",
       "  <thead>\n",
       "    <tr style=\"text-align: right;\">\n",
       "      <th></th>\n",
       "      <th>ExactTimeStamp</th>\n",
       "      <th>Price</th>\n",
       "    </tr>\n",
       "  </thead>\n",
       "  <tbody>\n",
       "    <tr>\n",
       "      <th>0</th>\n",
       "      <td>1458047983000</td>\n",
       "      <td>415.87</td>\n",
       "    </tr>\n",
       "    <tr>\n",
       "      <th>1</th>\n",
       "      <td>1458047989000</td>\n",
       "      <td>415.88</td>\n",
       "    </tr>\n",
       "    <tr>\n",
       "      <th>2</th>\n",
       "      <td>1458047995000</td>\n",
       "      <td>415.88</td>\n",
       "    </tr>\n",
       "    <tr>\n",
       "      <th>3</th>\n",
       "      <td>1458048001000</td>\n",
       "      <td>415.88</td>\n",
       "    </tr>\n",
       "    <tr>\n",
       "      <th>4</th>\n",
       "      <td>1458048007000</td>\n",
       "      <td>415.87</td>\n",
       "    </tr>\n",
       "  </tbody>\n",
       "</table>\n",
       "</div>"
      ],
      "text/plain": [
       "   ExactTimeStamp   Price\n",
       "0   1458047983000  415.87\n",
       "1   1458047989000  415.88\n",
       "2   1458047995000  415.88\n",
       "3   1458048001000  415.88\n",
       "4   1458048007000  415.87"
      ]
     },
     "execution_count": 20,
     "metadata": {},
     "output_type": "execute_result"
    }
   ],
   "source": [
    "now = trades.shape[0]\n",
    "trades.head()"
   ]
  },
  {
   "cell_type": "code",
   "execution_count": 21,
   "metadata": {},
   "outputs": [
    {
     "name": "stdout",
     "output_type": "stream",
     "text": [
      "Total samples before : 12291042\n",
      "Total samples after : 12290590\n",
      "First 2016-03-15 13:19:43\n",
      "Last 2018-07-18 08:51:12\n"
     ]
    }
   ],
   "source": [
    "# drop duplicate time stamps\n",
    "print(\"Total samples before :\", trades.shape[0])\n",
    "\n",
    "#deleting the equal ExactTimeStamps to avoid delta_t = 0\n",
    "trades.drop_duplicates('ExactTimeStamp', keep='first', inplace=True)\n",
    "\n",
    "print(\"Total samples after :\", trades.shape[0])\n",
    "\n",
    "firstTime = trades['ExactTimeStamp'][0]\n",
    "firstTimeAsDatetime = datetime.utcfromtimestamp(firstTime/1000.0);\n",
    "N = size(trades['ExactTimeStamp'])\n",
    "lastTime = trades['ExactTimeStamp'][N-1]\n",
    "lastTimeAsDatetime = datetime.utcfromtimestamp(lastTime/1000.0);\n",
    "print(\"First \"+ firstTimeAsDatetime.strftime('%Y-%m-%d %H:%M:%S'))\n",
    "print(\"Last \" + lastTimeAsDatetime.strftime('%Y-%m-%d %H:%M:%S'))"
   ]
  },
  {
   "cell_type": "code",
   "execution_count": 22,
   "metadata": {},
   "outputs": [
    {
     "name": "stdout",
     "output_type": "stream",
     "text": [
      "Vol is 0.01% per second\n",
      "Vol is 0.78% per hour\n",
      "Vol is 3.84% per day\n",
      "Vol is 73.41% per year\n"
     ]
    }
   ],
   "source": [
    "prices = trades['Price']\n",
    "timeStamps = trades['ExactTimeStamp']\n",
    "\n",
    "print(\"Vol is %.2f%% per second\" % (100.0*volFromTimeSeriesPerSecond(prices, timeStamps)))\n",
    "print(\"Vol is %.2f%% per hour\" % (100.0*volFromTimeSeriesPerHour(prices, timeStamps)))\n",
    "print(\"Vol is %.2f%% per day\" % (100.0*volFromTimeSeriesPerDay(prices, timeStamps)))\n",
    "print(\"Vol is %.2f%% per year\" % (100.0*volFromTimeSeriesPerYear(prices, timeStamps)))"
   ]
  },
  {
   "cell_type": "code",
   "execution_count": 23,
   "metadata": {},
   "outputs": [
    {
     "name": "stdout",
     "output_type": "stream",
     "text": [
      "midle point time 2017-05-16 20:12:17\n",
      "Annualized vol until middle point 33.25% per year\n"
     ]
    }
   ],
   "source": [
    "midN=int(floor(N/2))\n",
    "lastTime = trades['ExactTimeStamp'][midN]\n",
    "lastTimeAsDatetime = datetime.utcfromtimestamp(lastTime/1000.0);\n",
    "print(\"midle point time \"+ lastTimeAsDatetime.strftime('%Y-%m-%d %H:%M:%S'))\n",
    "volHistorical = volFromTimeSeriesPerYear(prices[1:midN], trades['ExactTimeStamp'][1:midN])\n",
    "print(\"Annualized vol until middle point %.2f%% per year\" % (100.0*volHistorical))"
   ]
  },
  {
   "cell_type": "code",
   "execution_count": null,
   "metadata": {},
   "outputs": [
    {
     "name": "stdout",
     "output_type": "stream",
     "text": [
      "some point time 2018-05-16 20:12:15\n"
     ]
    }
   ],
   "source": [
    "N = midN+5245934+1\n",
    "someDate = trades['ExactTimeStamp'][N-1]\n",
    "someDateAsDatetime = datetime.utcfromtimestamp(someDate/1000.0);\n",
    "print(\"some point time \"+ someDateAsDatetime.strftime('%Y-%m-%d %H:%M:%S'))"
   ]
  },
  {
   "cell_type": "code",
   "execution_count": null,
   "metadata": {},
   "outputs": [],
   "source": [
    "%run bs_paths.py\n",
    "\n",
    "# assume zero interest rate\n",
    "r = 0.0;\n",
    "\n",
    "# margin call every minute\n",
    "numTradesBetweenMarginCalls = 100 # i.e. roughly one margin call per minute\n",
    "pBar = 0.999;\n",
    "\n",
    "simTimeGrid = array(trades['ExactTimeStamp'][midN:N-1])/1000.0/60/60/24/365.25\n",
    "simTimeGrid = simTimeGrid - simTimeGrid[0]\n",
    "riskyPath = array(prices[midN:N-1])\n",
    "\n",
    "T = simTimeGrid[simTimeGrid.size-1]\n",
    "K = LongFwdFairStrike(riskyPath[0],r,T);\n",
    "\n",
    "\n",
    "\n",
    "longFwdPathGen = LongFwdValsGen(simTimeGrid, riskyPath, K, r, T);\n",
    "longFwdVals = longFwdPathGen.GetPath();\n",
    "\n",
    "\n",
    "\n",
    "# Now we calculate what would happen with the margin account    \n",
    "MarginCallsN = int((size(simTimeGrid))/numTradesBetweenMarginCalls)\n",
    "MarginValues = zeros(MarginCallsN);\n",
    "MarginTimeGrid = zeros(MarginCallsN);\n",
    "\n",
    "# we assume we only guarantee a risk-engine run every day\n",
    "tau = 1.0/365.25;\n",
    "print(\"Assumed time step as year fraction %.2e and in minutes %.2f\" % (tau,tau*365.25*24*60))\n",
    "MarginValues[0] = BSShortFwdMargin(1-pBar, tau, riskyPath[0], K, r, volHistorical, T)\n",
    "\n",
    "\n",
    "# Conservative margin\n",
    "gamma = 0.5; # we will multiply minimumMarginValues by 1+gamma for this type of account\n",
    "phi = 0.8; # we will apply gamma * minimumMargin if minimumMargin > 0.9 * conservativeMargin\n",
    "conservativeMargin = zeros(MarginCallsN);\n",
    "conservativeMargin[0] = (1+gamma)*MarginValues[0];\n",
    "\n",
    "Losses = zeros(MarginCallsN);\n",
    "for i in range (0, MarginCallsN - 1):\n",
    "    MarginTimeGrid[i+1] = simTimeGrid[(i+1)*numTradesBetweenMarginCalls]\n",
    "    Losses[i+1] = max(longFwdVals[(i+1)*numTradesBetweenMarginCalls] - MarginValues[i],0)\n",
    "    \n",
    "    MarginValues[i+1] = BSShortFwdMargin(1-pBar, tau, \\\n",
    "                            riskyPath[(i+1)*numTradesBetweenMarginCalls], K, r, volHistorical, \\\n",
    "                            T-simTimeGrid[(i+1)*numTradesBetweenMarginCalls])\n",
    "    if (MarginValues[i+1] > phi * conservativeMargin[i]):\n",
    "        conservativeMargin[i+1] = (1+gamma)*MarginValues[i+1];\n",
    "    else:\n",
    "        conservativeMargin[i+1] = conservativeMargin[i]\n",
    "    \n",
    "    \n"
   ]
  },
  {
   "cell_type": "code",
   "execution_count": null,
   "metadata": {},
   "outputs": [],
   "source": [
    "\n",
    "plt.plot(simTimeGrid, longFwdVals, label='Liability (forward)')\n",
    "plt.plot(MarginTimeGrid, MarginValues, label='Min margin level')\n",
    "plt.plot(MarginTimeGrid, conservativeMargin, label='Conservative margin level')\n",
    "\n",
    "MarginValsDelta = MarginValues[0:(MarginCallsN-2)] - MarginValues[1:(MarginCallsN-1)]\n",
    "conservativeMarginDelta = conservativeMargin[0:(MarginCallsN-2)] - conservativeMargin[1:(MarginCallsN-1)]\n",
    "#plt.plot(MarginTimeGrid[1:(MarginCallsN-1)], MarginValsDelta, label='Changes in min margin')\n",
    "#plt.plot(MarginTimeGrid[1:(MarginCallsN-1)], conservativeMarginDelta, label='Changes in conservative margin')\n",
    "\n",
    "plt.legend();\n",
    "plt.ylabel(\"USD\")\n",
    "plt.xlabel(\"Time as year fraction\")\n",
    "print('Maximum loss %.2f' % max(Losses))\n",
    "plt.title(\"USDBTC liability and margin evolution for forward\")\n",
    "#plt.savefig('margin_deribit_data-USDBTC.eps', format='eps')\n"
   ]
  },
  {
   "cell_type": "code",
   "execution_count": null,
   "metadata": {},
   "outputs": [],
   "source": [
    "print(\"Asset value %.2f, fair strike %.2f.\" % (riskyPath[0], K))\n",
    "print(\"Margin amount %.3f and as percentage %.3f.\" % (MarginValues[0],\n",
    "                                                      (100*MarginValues[0]/riskyPath[0])))\n"
   ]
  },
  {
   "cell_type": "code",
   "execution_count": null,
   "metadata": {},
   "outputs": [],
   "source": [
    "maxLossIdx = argmax(Losses)\n",
    "print(\"Margin at time of loss %.0f\" % MarginValues[maxLossIdx])\n",
    "print(longFwdVals[(maxLossIdx+1)*numTradesBetweenMarginCalls])"
   ]
  },
  {
   "cell_type": "markdown",
   "metadata": {},
   "source": [
    "# References\n",
    "[Follmer, H. and Schied, A. - Convex and coherent risk measures, 2008](https://www.math.hu-berlin.de/~foellmer/papers/CCRM.pdf)\n",
    "\n",
    "[Embrechts, P. and Wang, R. - Seven proofs for the subadditivity of expected shortfall, 2015](https://people.math.ethz.ch/~embrecht/ftp/Seven_Proofs.pdf)"
   ]
  }
 ],
 "metadata": {
  "kernelspec": {
   "display_name": "Python 3",
   "language": "python",
   "name": "python3"
  },
  "language_info": {
   "codemirror_mode": {
    "name": "ipython",
    "version": 3
   },
   "file_extension": ".py",
   "mimetype": "text/x-python",
   "name": "python",
   "nbconvert_exporter": "python",
   "pygments_lexer": "ipython3",
   "version": "3.7.3"
  }
 },
 "nbformat": 4,
 "nbformat_minor": 2
}